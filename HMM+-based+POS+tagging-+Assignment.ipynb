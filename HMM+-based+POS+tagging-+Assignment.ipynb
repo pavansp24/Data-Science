{
 "cells": [
  {
   "cell_type": "markdown",
   "metadata": {},
   "source": [
    "## POS tagging using modified Viterbi"
   ]
  },
  {
   "cell_type": "markdown",
   "metadata": {},
   "source": [
    "### Data Preparation"
   ]
  },
  {
   "cell_type": "code",
   "execution_count": 1,
   "metadata": {},
   "outputs": [],
   "source": [
    "#Importing libraries\n",
    "import nltk, re, pprint\n",
    "import numpy as np\n",
    "import pandas as pd\n",
    "import requests\n",
    "import matplotlib.pyplot as plt\n",
    "import seaborn as sns\n",
    "import pprint, time\n",
    "import random\n",
    "from sklearn.model_selection import train_test_split\n",
    "from nltk.tokenize import word_tokenize"
   ]
  },
  {
   "cell_type": "code",
   "execution_count": 2,
   "metadata": {},
   "outputs": [],
   "source": [
    "# reading the Treebank tagged sentences\n",
    "nltk_data = list(nltk.corpus.treebank.tagged_sents(tagset='universal'))"
   ]
  },
  {
   "cell_type": "code",
   "execution_count": 3,
   "metadata": {},
   "outputs": [
    {
     "name": "stdout",
     "output_type": "stream",
     "text": [
      "Number of records in training set 3718\n",
      "Number of records in training set 196\n"
     ]
    }
   ],
   "source": [
    "train_set, test_set = train_test_split(nltk_data,test_size=0.05)\n",
    "\n",
    "print(\"Number of records in training set \" + str(len(train_set)))\n",
    "print(\"Number of records in training set \" + str(len(test_set)))"
   ]
  },
  {
   "cell_type": "code",
   "execution_count": 4,
   "metadata": {},
   "outputs": [
    {
     "data": {
      "text/plain": [
       "95661"
      ]
     },
     "execution_count": 4,
     "metadata": {},
     "output_type": "execute_result"
    }
   ],
   "source": [
    "train_tagged_words = [tup for sent in train_set for tup in sent]\n",
    "len(train_tagged_words)"
   ]
  },
  {
   "cell_type": "code",
   "execution_count": 5,
   "metadata": {},
   "outputs": [
    {
     "data": {
      "text/plain": [
       "12115"
      ]
     },
     "execution_count": 5,
     "metadata": {},
     "output_type": "execute_result"
    }
   ],
   "source": [
    "tokens = [pair[0] for pair in train_tagged_words]\n",
    "V = set(tokens)\n",
    "len(V)"
   ]
  },
  {
   "cell_type": "code",
   "execution_count": 6,
   "metadata": {},
   "outputs": [
    {
     "data": {
      "text/plain": [
       "12"
      ]
     },
     "execution_count": 6,
     "metadata": {},
     "output_type": "execute_result"
    }
   ],
   "source": [
    "T = set([pair[1] for pair in train_tagged_words])\n",
    "len(T)"
   ]
  },
  {
   "cell_type": "code",
   "execution_count": 7,
   "metadata": {},
   "outputs": [
    {
     "name": "stdout",
     "output_type": "stream",
     "text": [
      "Available tags in the data set\n",
      "\n",
      "{'NOUN', 'CONJ', 'PRT', 'X', 'ADJ', 'PRON', 'DET', 'NUM', 'ADP', '.', 'VERB', 'ADV'}\n"
     ]
    }
   ],
   "source": [
    "print(\"Available tags in the data set\\n\")\n",
    "print(T)"
   ]
  },
  {
   "cell_type": "code",
   "execution_count": 8,
   "metadata": {},
   "outputs": [
    {
     "data": {
      "text/plain": [
       "Counter({'NOUN': 28867,\n",
       "         '.': 11715,\n",
       "         'NUM': 3546,\n",
       "         'ADJ': 6397,\n",
       "         'VERB': 13564,\n",
       "         'DET': 8725,\n",
       "         'ADP': 9857,\n",
       "         'CONJ': 2265,\n",
       "         'X': 6613,\n",
       "         'ADV': 3171,\n",
       "         'PRT': 3219,\n",
       "         'PRON': 2737})"
      ]
     },
     "execution_count": 8,
     "metadata": {},
     "output_type": "execute_result"
    }
   ],
   "source": [
    "tagged_words = [tup for sent in nltk_data for tup in sent]\n",
    "tags = [pair[1] for pair in tagged_words]\n",
    "from collections import Counter\n",
    "tag_counts = Counter(tags)\n",
    "tag_counts"
   ]
  },
  {
   "cell_type": "code",
   "execution_count": 9,
   "metadata": {},
   "outputs": [
    {
     "name": "stdout",
     "output_type": "stream",
     "text": [
      "[('NOUN', 28867), ('VERB', 13564), ('.', 11715), ('ADP', 9857), ('DET', 8725)]\n"
     ]
    }
   ],
   "source": [
    "print(tag_counts.most_common(5))"
   ]
  },
  {
   "cell_type": "markdown",
   "metadata": {},
   "source": [
    "### Emission Probabilities"
   ]
  },
  {
   "cell_type": "code",
   "execution_count": 10,
   "metadata": {},
   "outputs": [],
   "source": [
    "def word_given_tag(word,tag,train_bag = train_tagged_words):\n",
    "    tag_list = [pair for pair in train_bag if pair[1] == tag]\n",
    "    count_tag = len(tag_list)\n",
    "    word_in_given_tag_list = [pair[0] for pair in tag_list if pair[0] == word]\n",
    "    count_w_given_tag = len(word_in_given_tag_list)\n",
    "    return (count_w_given_tag,count_tag)\n",
    "    "
   ]
  },
  {
   "cell_type": "code",
   "execution_count": 11,
   "metadata": {},
   "outputs": [
    {
     "name": "stdout",
     "output_type": "stream",
     "text": [
      "(269, 12867)\n",
      "(0, 27403)\n",
      "(2, 12867)\n",
      "(1, 27403)\n"
     ]
    }
   ],
   "source": [
    "#test the word_given_tag method\n",
    "print(word_given_tag('will', 'VERB'))\n",
    "print(word_given_tag('Android', 'NOUN'))\n",
    "print(word_given_tag('train', 'VERB'))\n",
    "print(word_given_tag('train', 'NOUN'))"
   ]
  },
  {
   "cell_type": "code",
   "execution_count": 12,
   "metadata": {},
   "outputs": [
    {
     "name": "stdout",
     "output_type": "stream",
     "text": [
      "(0, 27403)\n"
     ]
    }
   ],
   "source": [
    "print(word_given_tag('opposite', 'NOUN'))"
   ]
  },
  {
   "cell_type": "code",
   "execution_count": 13,
   "metadata": {},
   "outputs": [
    {
     "name": "stdout",
     "output_type": "stream",
     "text": [
      "NOUN\n",
      "(0, 27403)\n",
      "CONJ\n",
      "(0, 2155)\n",
      "PRT\n",
      "(0, 3045)\n",
      "X\n",
      "(0, 6267)\n",
      "ADJ\n",
      "(0, 6102)\n",
      "PRON\n",
      "(0, 2597)\n",
      "DET\n",
      "(0, 8297)\n",
      "NUM\n",
      "(0, 3371)\n",
      "ADP\n",
      "(0, 9348)\n",
      ".\n",
      "(0, 11191)\n",
      "VERB\n",
      "(0, 12867)\n",
      "ADV\n",
      "(0, 3018)\n"
     ]
    }
   ],
   "source": [
    "# For every tag, test the word_given_tag with a word\n",
    "for t in T:\n",
    "    print(t)\n",
    "    print(word_given_tag('Android', t))"
   ]
  },
  {
   "cell_type": "markdown",
   "metadata": {},
   "source": [
    "### Transition Probabilities"
   ]
  },
  {
   "cell_type": "code",
   "execution_count": 14,
   "metadata": {},
   "outputs": [],
   "source": [
    "def t2_given_t1(t2,t1,train_bag = train_tagged_words):\n",
    "    tags = [pair[1] for pair in train_bag]\n",
    "    count_t1 = len([t for t in tags if t == t1])\n",
    "    count_t2_t1 = 0\n",
    "    for index in range(len(tags)-1):\n",
    "        if tags[index]==t1 and tags[index+1]==t2:\n",
    "            count_t2_t1 += 1\n",
    "    return (count_t2_t1, count_t1)"
   ]
  },
  {
   "cell_type": "code",
   "execution_count": 15,
   "metadata": {},
   "outputs": [
    {
     "name": "stdout",
     "output_type": "stream",
     "text": [
      "(744, 3045)\n"
     ]
    }
   ],
   "source": [
    "#test t2_given_t1 method\n",
    "print(t2_given_t1(t2='NOUN', t1='PRT'))"
   ]
  },
  {
   "cell_type": "code",
   "execution_count": 16,
   "metadata": {},
   "outputs": [],
   "source": [
    "tags_matrix = np.zeros((len(T), len(T)), dtype='float32')\n",
    "for i, t1 in enumerate(list(T)):\n",
    "    for j, t2 in enumerate(list(T)): \n",
    "        tags_matrix[i, j] = t2_given_t1(t2, t1)[0]/t2_given_t1(t2, t1)[1]"
   ]
  },
  {
   "cell_type": "code",
   "execution_count": 17,
   "metadata": {},
   "outputs": [],
   "source": [
    "tags_df = pd.DataFrame(tags_matrix, columns = list(T), index=list(T))"
   ]
  },
  {
   "cell_type": "code",
   "execution_count": 18,
   "metadata": {},
   "outputs": [
    {
     "data": {
      "text/html": [
       "<div>\n",
       "<style scoped>\n",
       "    .dataframe tbody tr th:only-of-type {\n",
       "        vertical-align: middle;\n",
       "    }\n",
       "\n",
       "    .dataframe tbody tr th {\n",
       "        vertical-align: top;\n",
       "    }\n",
       "\n",
       "    .dataframe thead th {\n",
       "        text-align: right;\n",
       "    }\n",
       "</style>\n",
       "<table border=\"1\" class=\"dataframe\">\n",
       "  <thead>\n",
       "    <tr style=\"text-align: right;\">\n",
       "      <th></th>\n",
       "      <th>NOUN</th>\n",
       "      <th>CONJ</th>\n",
       "      <th>PRT</th>\n",
       "      <th>X</th>\n",
       "      <th>ADJ</th>\n",
       "      <th>PRON</th>\n",
       "      <th>DET</th>\n",
       "      <th>NUM</th>\n",
       "      <th>ADP</th>\n",
       "      <th>.</th>\n",
       "      <th>VERB</th>\n",
       "      <th>ADV</th>\n",
       "    </tr>\n",
       "  </thead>\n",
       "  <tbody>\n",
       "    <tr>\n",
       "      <th>NOUN</th>\n",
       "      <td>0.263000</td>\n",
       "      <td>0.042550</td>\n",
       "      <td>0.043827</td>\n",
       "      <td>0.028719</td>\n",
       "      <td>0.012006</td>\n",
       "      <td>0.004671</td>\n",
       "      <td>0.013101</td>\n",
       "      <td>0.009561</td>\n",
       "      <td>0.176842</td>\n",
       "      <td>0.241287</td>\n",
       "      <td>0.147393</td>\n",
       "      <td>0.017042</td>\n",
       "    </tr>\n",
       "    <tr>\n",
       "      <th>CONJ</th>\n",
       "      <td>0.348028</td>\n",
       "      <td>0.000464</td>\n",
       "      <td>0.005104</td>\n",
       "      <td>0.007889</td>\n",
       "      <td>0.116009</td>\n",
       "      <td>0.059397</td>\n",
       "      <td>0.120650</td>\n",
       "      <td>0.041763</td>\n",
       "      <td>0.053364</td>\n",
       "      <td>0.036195</td>\n",
       "      <td>0.156845</td>\n",
       "      <td>0.054292</td>\n",
       "    </tr>\n",
       "    <tr>\n",
       "      <th>PRT</th>\n",
       "      <td>0.244335</td>\n",
       "      <td>0.002299</td>\n",
       "      <td>0.001642</td>\n",
       "      <td>0.013136</td>\n",
       "      <td>0.086371</td>\n",
       "      <td>0.018062</td>\n",
       "      <td>0.104433</td>\n",
       "      <td>0.058456</td>\n",
       "      <td>0.021018</td>\n",
       "      <td>0.042365</td>\n",
       "      <td>0.398686</td>\n",
       "      <td>0.009195</td>\n",
       "    </tr>\n",
       "    <tr>\n",
       "      <th>X</th>\n",
       "      <td>0.062869</td>\n",
       "      <td>0.010372</td>\n",
       "      <td>0.183022</td>\n",
       "      <td>0.075315</td>\n",
       "      <td>0.017393</td>\n",
       "      <td>0.055210</td>\n",
       "      <td>0.055689</td>\n",
       "      <td>0.002872</td>\n",
       "      <td>0.143769</td>\n",
       "      <td>0.164513</td>\n",
       "      <td>0.203447</td>\n",
       "      <td>0.025531</td>\n",
       "    </tr>\n",
       "    <tr>\n",
       "      <th>ADJ</th>\n",
       "      <td>0.699771</td>\n",
       "      <td>0.016716</td>\n",
       "      <td>0.010980</td>\n",
       "      <td>0.021141</td>\n",
       "      <td>0.065552</td>\n",
       "      <td>0.000656</td>\n",
       "      <td>0.004589</td>\n",
       "      <td>0.020649</td>\n",
       "      <td>0.078171</td>\n",
       "      <td>0.065061</td>\n",
       "      <td>0.011963</td>\n",
       "      <td>0.004753</td>\n",
       "    </tr>\n",
       "  </tbody>\n",
       "</table>\n",
       "</div>"
      ],
      "text/plain": [
       "          NOUN      CONJ       PRT         X       ADJ      PRON       DET  \\\n",
       "NOUN  0.263000  0.042550  0.043827  0.028719  0.012006  0.004671  0.013101   \n",
       "CONJ  0.348028  0.000464  0.005104  0.007889  0.116009  0.059397  0.120650   \n",
       "PRT   0.244335  0.002299  0.001642  0.013136  0.086371  0.018062  0.104433   \n",
       "X     0.062869  0.010372  0.183022  0.075315  0.017393  0.055210  0.055689   \n",
       "ADJ   0.699771  0.016716  0.010980  0.021141  0.065552  0.000656  0.004589   \n",
       "\n",
       "           NUM       ADP         .      VERB       ADV  \n",
       "NOUN  0.009561  0.176842  0.241287  0.147393  0.017042  \n",
       "CONJ  0.041763  0.053364  0.036195  0.156845  0.054292  \n",
       "PRT   0.058456  0.021018  0.042365  0.398686  0.009195  \n",
       "X     0.002872  0.143769  0.164513  0.203447  0.025531  \n",
       "ADJ   0.020649  0.078171  0.065061  0.011963  0.004753  "
      ]
     },
     "execution_count": 18,
     "metadata": {},
     "output_type": "execute_result"
    }
   ],
   "source": [
    "tags_df.head()"
   ]
  },
  {
   "cell_type": "code",
   "execution_count": 19,
   "metadata": {},
   "outputs": [
    {
     "data": {
      "text/plain": [
       "NOUN    0.222143\n",
       "CONJ    0.058440\n",
       "PRT     0.002323\n",
       "X       0.027611\n",
       "ADJ     0.044768\n",
       "PRON    0.065410\n",
       "DET     0.172460\n",
       "NUM     0.080958\n",
       "ADP     0.090430\n",
       ".       0.094630\n",
       "VERB    0.088911\n",
       "ADV     0.051827\n",
       "Name: ., dtype: float32"
      ]
     },
     "execution_count": 19,
     "metadata": {},
     "output_type": "execute_result"
    }
   ],
   "source": [
    "tags_df.loc['.', :]"
   ]
  },
  {
   "cell_type": "markdown",
   "metadata": {},
   "source": [
    "### Build the vanilla Viterbi based POS tagger"
   ]
  },
  {
   "cell_type": "code",
   "execution_count": 20,
   "metadata": {},
   "outputs": [],
   "source": [
    "def vannilla_viterbi(words , train_bag = train_tagged_words):\n",
    "    state = []\n",
    "    T = list(set([pair[1] for pair in train_bag]))\n",
    "    for key,word in enumerate(words):\n",
    "        p = []\n",
    "        for tag in T:\n",
    "            if key ==0:\n",
    "                transition_p = tags_df.loc['.',tag]\n",
    "            else:\n",
    "                transition_p = tags_df.loc[state[-1],tag]\n",
    "            result = word_given_tag(words[key],tag)\n",
    "            emission_p = result[0]/result[1]\n",
    "            state_probability = emission_p * transition_p    \n",
    "            p.append(state_probability)\n",
    "            \n",
    "        pmax = max(p)\n",
    "        # getting state for which probability is maximum\n",
    "        state_max = T[p.index(pmax)] \n",
    "        state.append(state_max)\n",
    "    return list(zip(words, state))"
   ]
  },
  {
   "cell_type": "code",
   "execution_count": 21,
   "metadata": {},
   "outputs": [
    {
     "name": "stdout",
     "output_type": "stream",
     "text": [
      "5015\n"
     ]
    }
   ],
   "source": [
    "\n",
    "# list of untagged words\n",
    "test_tagged_words = [tup[0] for sent in test_set for tup in sent]\n",
    "print(len(test_tagged_words))"
   ]
  },
  {
   "cell_type": "code",
   "execution_count": 22,
   "metadata": {},
   "outputs": [],
   "source": [
    "# tagging the test sentences\n",
    "start = time.time()\n",
    "tagged_seq = vannilla_viterbi(test_tagged_words)\n",
    "end = time.time()\n",
    "difference = end-start"
   ]
  },
  {
   "cell_type": "code",
   "execution_count": 23,
   "metadata": {},
   "outputs": [
    {
     "name": "stdout",
     "output_type": "stream",
     "text": [
      "Time taken in seconds:  508.94840693473816\n",
      "[('The', 'DET'), ('concept', 'NOUN'), ('begot', 'NOUN'), ('a', 'DET'), ('slew', 'NOUN'), ('of', 'ADP'), ('copycats', 'NOUN'), (',', '.'), ('but', 'CONJ'), ('the', 'DET'), ('banks', 'NOUN'), ('stopped', 'VERB'), ('*-1', 'X'), ('promoting', 'VERB'), ('the', 'DET'), ('packages', 'NOUN'), ('.', '.'), ('The', 'DET'), ('Voice', 'NOUN'), ('of', 'ADP'), ('America', 'NOUN'), ('is', 'VERB'), ('a', 'DET'), ('government', 'NOUN'), ('agency', 'NOUN'), ('that', 'ADP'), ('*T*-1', 'X'), ('broadcasts', 'NOUN'), ('news', 'NOUN'), ('and', 'CONJ'), ('views', 'NOUN'), ('--', '.'), ('some', 'DET'), ('might', 'VERB'), ('say', 'VERB'), ('propaganda', 'NOUN'), ('--', '.'), ('in', 'ADP'), ('43', 'NUM'), ('languages', 'NOUN'), ('to', 'PRT'), ('130', 'NUM'), ('million', 'NUM'), ('listeners', 'NOUN'), ('around', 'ADP'), ('the', 'DET'), ('world', 'NOUN'), ('.', '.'), ('Several', 'ADJ'), ('Fed', 'NOUN'), ('governors', 'NOUN'), ('in', 'ADP'), ('Washington', 'NOUN'), ('have', 'VERB'), ('been', 'VERB'), ('pushing', 'VERB'), ('for', 'ADP'), ('easier', 'ADJ'), ('credit', 'NOUN'), (';', '.'), ('but', 'CONJ'), ('many', 'ADJ'), ('of', 'ADP'), ('the', 'DET'), ('regional', 'ADJ'), ('Fed', 'NOUN'), ('presidents', 'NOUN'), ('have', 'VERB'), ('been', 'VERB'), ('resisting', 'NOUN'), ('such', 'ADJ'), ('a', 'DET'), ('move', 'NOUN'), ('.', '.'), ('The', 'DET'), ('indexers', 'NOUN'), (\"'\", 'PRT'), ('strategy', 'NOUN'), ('for', 'ADP'), ('the', 'DET'), ('moment', 'NOUN'), ('is', 'VERB'), ('*', 'X'), ('to', 'PRT'), ('hunker', 'NOUN'), ('down', 'ADP'), ('and', 'CONJ'), ('let', 'VERB'), ('the', 'DET'), ('furor', 'NOUN'), ('die', 'VERB'), ('.', '.'), ('*-2', 'X'), ('Also', 'ADV'), ('in', 'ADP'), ('New', 'NOUN'), ('York', 'NOUN'), (',', '.'), ('Israel', 'NOUN'), ('Silverman', 'NOUN'), (',', '.'), ('an', 'DET'), ('insurance-company', 'NOUN'), ('lawyer', 'NOUN'), (',', '.'), ('comments', 'NOUN'), ('that', 'ADP'), ('program', 'NOUN'), ('trading', 'NOUN'), ('``', '.'), ('increases', 'NOUN'), ('volatility', 'NOUN'), (',', '.'), ('but', 'CONJ'), ('I', 'PRON'), ('do', 'VERB'), (\"n't\", 'ADV'), ('think', 'VERB'), ('0', 'X'), ('it', 'PRON'), ('should', 'VERB'), ('be', 'VERB'), ('banned', 'VERB'), ('*-1', 'X'), ('.', '.'), ('Since', 'ADP'), ('the', 'DET'), ('reforms', 'NOUN'), ('went', 'VERB'), ('in', 'ADP'), ('place', 'NOUN'), (',', '.'), ('for', 'ADP'), ('example', 'NOUN'), (',', '.'), ('no', 'DET'), ('state', 'NOUN'), ('has', 'VERB'), ('posted', 'VERB'), ('a', 'DET'), ('higher', 'ADJ'), ('rate', 'NOUN'), ('of', 'ADP'), ('improvement', 'NOUN'), ('on', 'ADP'), ('the', 'DET'), ('Scholastic', 'NOUN'), ('Aptitude', 'NOUN'), ('Test', 'NOUN'), ('than', 'ADP'), ('South', 'NOUN'), ('Carolina', 'NOUN'), ('*?*', 'X'), (',', '.'), ('although', 'ADP'), ('the', 'DET'), ('state', 'NOUN'), ('still', 'ADV'), ('posts', 'NOUN'), ('the', 'DET'), ('lowest', 'ADJ'), ('average', 'NOUN'), ('score', 'NOUN'), ('of', 'ADP'), ('the', 'DET'), ('about', 'ADP'), ('21', 'NUM'), ('states', 'NOUN'), ('who', 'PRON'), ('*T*-87', 'NOUN'), ('use', 'VERB'), ('the', 'DET'), ('SAT', 'NOUN'), ('as', 'ADP'), ('the', 'DET'), ('primary', 'ADJ'), ('college', 'NOUN'), ('entrance', 'NOUN'), ('examination', 'NOUN'), ('.', '.'), ('The', 'DET'), ('man', 'NOUN'), ('was', 'VERB'), ('Charles', 'NOUN'), ('Z.', 'NOUN'), ('Wick', 'NOUN'), ('.', '.'), ('With', 'ADP'), ('the', 'DET'), ('harvest', 'NOUN'), ('winding', 'NOUN'), ('down', 'ADP'), (',', '.'), ('however', 'ADV'), (',', '.'), ('some', 'DET'), ('analysts', 'NOUN'), ('are', 'VERB'), ('speculating', 'NOUN'), ('that', 'ADP'), ('prices', 'NOUN'), ('might', 'VERB'), ('jump', 'VERB'), ('in', 'ADP'), ('some', 'DET'), ('regions', 'NOUN'), ('as', 'ADP'), ('U.S.', 'NOUN'), ('exporters', 'NOUN'), ('try', 'VERB'), ('*-1', 'X'), ('to', 'PRT'), ('gather', 'NOUN'), ('the', 'DET'), ('corn', 'NOUN'), ('0', 'X'), ('they', 'PRON'), ('are', 'VERB'), ('obligated', 'NOUN'), ('*-3', 'X'), ('to', 'PRT'), ('deliver', 'VERB'), ('*T*-2', 'X'), ('.', '.'), ('The', 'DET'), ('legislation', 'NOUN'), ('itself', 'PRON'), ('noted', 'VERB'), ('that', 'ADP'), ('it', 'PRON'), ('was', 'VERB'), ('introduced', 'VERB'), ('*-1', 'X'), ('``', '.'), ('by', 'ADP'), ('request', 'NOUN'), (',', '.'), (\"''\", '.'), ('and', 'CONJ'), ('in', 'ADP'), ('1983', 'NUM'), ('Mr.', 'NOUN'), ('Wilder', 'NOUN'), ('introduced', 'VERB'), ('a', 'DET'), ('bill', 'NOUN'), ('0', 'X'), ('*T*-2', 'X'), ('to', 'PRT'), ('protect', 'VERB'), ('rape', 'NOUN'), ('victims', 'NOUN'), ('from', 'ADP'), ('unfounded', 'NOUN'), ('interrogation', 'NOUN'), ('.', '.'), ('Pressures', 'NOUN'), ('began', 'VERB'), ('*-1', 'X'), ('to', 'PRT'), ('build', 'VERB'), ('.', '.'), ('Backe', 'NOUN'), ('Group', 'NOUN'), ('Inc.', 'NOUN'), ('agreed', 'VERB'), ('*-1', 'X'), ('to', 'PRT'), ('acquire', 'VERB'), ('Atlantic', 'NOUN'), ('Publications', 'NOUN'), ('Inc.', 'NOUN'), (',', '.'), ('which', 'DET'), ('*T*-141', 'NOUN'), ('has', 'VERB'), ('30', 'NUM'), ('community', 'NOUN'), ('papers', 'NOUN'), ('and', 'CONJ'), ('annual', 'ADJ'), ('sales', 'NOUN'), ('of', 'ADP'), ('$', '.'), ('7', 'NUM'), ('million', 'NUM'), ('*U*', 'X'), ('.', '.'), ('Since', 'ADP'), ('the', 'DET'), ('British', 'ADJ'), ('auto', 'NOUN'), ('maker', 'NOUN'), ('became', 'VERB'), ('a', 'DET'), ('takeover', 'NOUN'), ('target', 'NOUN'), ('last', 'ADJ'), ('month', 'NOUN'), (',', '.'), ('its', 'PRON'), ('ADRs', 'NOUN'), ('have', 'VERB'), ('jumped', 'VERB'), ('about', 'ADP'), ('78', 'NOUN'), ('%', 'NOUN'), ('.', '.'), ('R.P.', 'NOUN'), ('Scherer', 'NOUN'), ('Corp.', 'NOUN'), ('said', 'VERB'), ('0', 'X'), ('it', 'PRON'), ('completed', 'VERB'), ('the', 'DET'), ('$', '.'), ('10.2', 'NUM'), ('million', 'NUM'), ('*U*', 'X'), ('sale', 'NOUN'), ('of', 'ADP'), ('its', 'PRON'), ('Southern', 'NOUN'), ('Optical', 'NOUN'), ('subsidiary', 'NOUN'), ('to', 'PRT'), ('a', 'DET'), ('group', 'NOUN'), ('led', 'VERB'), ('*', 'X'), ('by', 'ADP'), ('the', 'DET'), ('unit', 'NOUN'), (\"'s\", 'PRT'), ('president', 'NOUN'), (',', '.'), ('Thomas', 'NOUN'), ('R.', 'NOUN'), ('Sloan', 'NOUN'), (',', '.'), ('and', 'CONJ'), ('other', 'ADJ'), ('managers', 'NOUN'), ('.', '.'), ('Both', 'DET'), ('Dr.', 'NOUN'), ('Mason', 'NOUN'), ('and', 'CONJ'), ('Dr.', 'NOUN'), ('Sullivan', 'NOUN'), ('oppose', 'VERB'), ('federal', 'ADJ'), ('funding', 'NOUN'), ('for', 'ADP'), ('abortion', 'NOUN'), (',', '.'), ('as', 'ADP'), ('does', 'VERB'), ('President', 'NOUN'), ('Bush', 'NOUN'), ('*?*', 'X'), (',', '.'), ('except', 'ADP'), ('in', 'ADP'), ('cases', 'NOUN'), ('where', 'ADV'), ('a', 'DET'), ('woman', 'NOUN'), (\"'s\", 'PRT'), ('life', 'NOUN'), ('is', 'VERB'), ('threatened', 'VERB'), ('*-2', 'X'), ('*T*-1', 'X'), ('.', '.'), ('In', 'ADP'), ('other', 'ADJ'), ('commodity', 'NOUN'), ('markets', 'NOUN'), ('yesterday', 'NOUN'), (':', '.'), ('There', 'DET'), ('have', 'VERB'), ('been', 'VERB'), ('only', 'ADV'), ('seven', 'NUM'), ('other', 'ADJ'), ('times', 'NOUN'), ('--', '.'), ('in', 'ADP'), ('1929', 'NUM'), (',', '.'), ('1933', 'NOUN'), (',', '.'), ('1961', 'NOUN'), (',', '.'), ('1965', 'NUM'), (',', '.'), ('1968', 'NOUN'), (',', '.'), ('1971', 'NUM'), ('and', 'CONJ'), ('1972', 'NUM'), ('--', '.'), ('when', 'ADV'), ('the', 'DET'), ('yield', 'NOUN'), ('on', 'ADP'), ('the', 'DET'), ('S&P', 'NOUN'), ('500', 'NUM'), ('dropped', 'VERB'), ('below', 'ADP'), ('3', 'NUM'), ('%', 'NOUN'), ('for', 'ADP'), ('at', 'ADP'), ('least', 'ADJ'), ('two', 'NUM'), ('consecutive', 'ADJ'), ('months', 'NOUN'), ('*T*-1', 'X'), (',', '.'), ('Mr.', 'NOUN'), ('Perritt', 'NOUN'), ('found', 'VERB'), ('0', 'X'), ('*T*-2', 'X'), ('.', '.'), ('9.82', 'NOUN'), ('%', 'NOUN'), (',', '.'), ('standard', 'ADJ'), ('conventional', 'ADJ'), ('fixed-rate', 'ADJ'), ('mortgages', 'NOUN'), (';', '.'), ('8.25', 'NUM'), ('%', 'NOUN'), (',', '.'), ('2', 'NUM'), ('%', 'NOUN'), ('rate', 'NOUN'), ('capped', 'VERB'), ('one-year', 'ADJ'), ('adjustable', 'ADJ'), ('rate', 'NOUN'), ('mortgages', 'NOUN'), ('.', '.'), ('When', 'ADV'), ('it', 'PRON'), (\"'s\", 'VERB'), ('time', 'NOUN'), ('for', 'ADP'), ('their', 'PRON'), ('biannual', 'NOUN'), ('powwow', 'NOUN'), ('*T*-1', 'X'), (',', '.'), ('the', 'DET'), ('nation', 'NOUN'), (\"'s\", 'PRT'), ('manufacturing', 'VERB'), ('titans', 'NOUN'), ('typically', 'ADV'), ('jet', 'NOUN'), ('off', 'PRT'), ('to', 'PRT'), ('the', 'DET'), ('sunny', 'NOUN'), ('confines', 'NOUN'), ('of', 'ADP'), ('resort', 'NOUN'), ('towns', 'NOUN'), ('like', 'ADP'), ('Boca', 'NOUN'), ('Raton', 'NOUN'), ('and', 'CONJ'), ('Hot', 'ADJ'), ('Springs', 'NOUN'), ('.', '.'), ('Valley', 'NOUN'), ('Federal', 'NOUN'), ('is', 'VERB'), ('currently', 'ADV'), ('being', 'VERB'), ('examined', 'VERB'), ('*-1', 'X'), ('by', 'ADP'), ('regulators', 'NOUN'), ('.', '.'), ('While', 'ADP'), ('program', 'NOUN'), ('trades', 'NOUN'), ('swiftly', 'ADV'), ('kicked', 'VERB'), ('in', 'ADP'), (',', '.'), ('a', 'DET'), ('``', '.'), ('circuit', 'NOUN'), ('breaker', 'NOUN'), (\"''\", '.'), ('that', 'DET'), ('*T*-1', 'X'), ('halted', 'VERB'), ('trading', 'NOUN'), ('in', 'ADP'), ('stock', 'NOUN'), ('futures', 'NOUN'), ('in', 'ADP'), ('Chicago', 'NOUN'), ('made', 'VERB'), ('some', 'DET'), ('program', 'NOUN'), ('trading', 'NOUN'), ('impossible', 'ADJ'), ('.', '.'), ('When', 'ADV'), ('demand', 'NOUN'), ('is', 'VERB'), ('stronger', 'ADJ'), ('than', 'ADP'), ('suppliers', 'NOUN'), ('can', 'VERB'), ('handle', 'VERB'), ('*T*-1', 'X'), ('and', 'CONJ'), ('delivery', 'NOUN'), ('times', 'NOUN'), ('lengthen', 'NOUN'), ('*T*-1', 'X'), (',', '.'), ('prices', 'NOUN'), ('tend', 'VERB'), ('*-2', 'X'), ('to', 'PRT'), ('rise', 'VERB'), ('.', '.'), ('The', 'DET'), ('thrift', 'NOUN'), ('said', 'VERB'), ('that', 'ADP'), ('``', '.'), ('after', 'ADP'), ('these', 'DET'), ('charges', 'NOUN'), ('and', 'CONJ'), ('*', 'X'), ('assuming', 'VERB'), ('no', 'DET'), ('dramatic', 'ADJ'), ('fluctuation', 'NOUN'), ('in', 'ADP'), ('interest', 'NOUN'), ('rates', 'NOUN'), (',', '.'), ('the', 'DET'), ('association', 'NOUN'), ('expects', 'VERB'), ('*-1', 'X'), ('to', 'PRT'), ('achieve', 'VERB'), ('near', 'ADP'), ('record', 'NOUN'), ('earnings', 'NOUN'), ('in', 'ADP'), ('1990', 'NUM'), ('.', '.'), (\"''\", '.'), ('New', 'NOUN'), ('Jersey', 'NOUN'), (':', '.'), ('South', 'NOUN'), ('African', 'ADJ'), ('troops', 'NOUN'), ('were', 'VERB'), ('placed', 'VERB'), ('*-1', 'X'), ('on', 'ADP'), ('alert', 'NOUN'), ('.', '.'), ('Fears', 'NOUN'), ('that', 'ADP'), ('Japanese', 'ADJ'), ('investors', 'NOUN'), ('are', 'VERB'), ('buying', 'VERB'), ('up', 'ADV'), ('America', 'NOUN'), ('have', 'VERB'), ('escalated', 'NOUN'), ('sharply', 'ADV'), ('in', 'ADP'), ('the', 'DET'), ('past', 'ADJ'), ('several', 'ADJ'), ('weeks', 'NOUN'), (',', '.'), ('with', 'ADP'), ('Sony', 'NOUN'), ('Corp.', 'NOUN'), (\"'s\", 'PRT'), ('purchase', 'NOUN'), ('of', 'ADP'), ('Columbia', 'NOUN'), ('Pictures', 'NOUN'), ('Entertainment', 'NOUN'), ('Inc.', 'NOUN'), ('from', 'ADP'), ('Coca-Cola', 'NOUN'), ('Co.', 'NOUN'), ('and', 'CONJ'), ('Mitsubishi', 'NOUN'), ('Estate', 'NOUN'), ('Co.', 'NOUN'), (\"'s\", 'PRT'), ('acquisition', 'NOUN'), ('of', 'ADP'), ('a', 'DET'), ('51', 'NUM'), ('%', 'NOUN'), ('holding', 'VERB'), ('in', 'ADP'), ('Rockefeller', 'NOUN'), ('Group', 'NOUN'), (',', '.'), ('the', 'DET'), ('owner', 'NOUN'), ('of', 'ADP'), ('some', 'DET'), ('of', 'ADP'), ('midtown', 'NOUN'), ('Manhattan', 'NOUN'), (\"'s\", 'PRT'), ('most', 'ADJ'), ('exclusive', 'ADJ'), ('real', 'ADJ'), ('estate', 'NOUN'), ('.', '.'), ('``', '.'), ('The', 'DET'), ('refund', 'NOUN'), ('pool', 'NOUN'), ('...', '.'), ('may', 'VERB'), ('not', 'ADV'), ('be', 'VERB'), ('held', 'VERB'), ('*-1', 'X'), ('hostage', 'NOUN'), ('through', 'ADP'), ('another', 'DET'), ('round', 'NOUN'), ('of', 'ADP'), ('appeals', 'NOUN'), (',', '.'), (\"''\", '.'), ('Judge', 'NOUN'), ('Curry', 'NOUN'), ('said', 'VERB'), ('*T*-2', 'X'), ('.', '.'), ('When', 'ADV'), ('test', 'VERB'), ('booklets', 'NOUN'), ('were', 'VERB'), ('passed', 'VERB'), ('*-1', 'X'), ('out', 'PRT'), ('48', 'NUM'), ('hours', 'NOUN'), ('ahead', 'ADV'), ('of', 'ADP'), ('time', 'NOUN'), ('*T*-2', 'X'), (',', '.'), ('she', 'PRON'), ('says', 'VERB'), ('0', 'X'), ('she', 'PRON'), ('copied', 'NOUN'), ('questions', 'NOUN'), ('in', 'ADP'), ('the', 'DET'), ('social', 'ADJ'), ('studies', 'NOUN'), ('section', 'NOUN'), ('and', 'CONJ'), ('gave', 'VERB'), ('the', 'DET'), ('answers', 'NOUN'), ('to', 'PRT'), ('students', 'NOUN'), ('.', '.'), ('According', 'VERB'), ('to', 'PRT'), ('Ms.', 'NOUN'), ('Poore', 'NOUN'), (',', '.'), ('Old-House', 'NOUN'), ('Journal', 'NOUN'), ('Corp.', 'NOUN'), (',', '.'), ('her', 'PRON'), ('publishing', 'VERB'), ('company', 'NOUN'), (',', '.'), ('printed', 'VERB'), ('and', 'CONJ'), ('sold', 'VERB'), ('all', 'DET'), ('126,000', 'NOUN'), ('copies', 'NOUN'), ('of', 'ADP'), ('the', 'DET'), ('premiere', 'NOUN'), ('issue', 'NOUN'), ('.', '.'), ('Cara', 'NOUN'), (',', '.'), ('a', 'DET'), ('food', 'NOUN'), ('services', 'NOUN'), ('chain', 'NOUN'), ('operator', 'NOUN'), ('and', 'CONJ'), ('Unicorp', 'NOUN'), (',', '.'), ('a', 'DET'), ('holding', 'VERB'), ('company', 'NOUN'), (',', '.'), ('are', 'VERB'), ('based', 'VERB'), ('*-1', 'X'), ('in', 'ADP'), ('Toronto', 'NOUN'), ('.', '.'), ('Mr.', 'NOUN'), ('Bernstein', 'NOUN'), ('said', 'VERB'), ('0', 'X'), ('he', 'PRON'), ('will', 'VERB'), ('stay', 'VERB'), ('until', 'ADP'), ('Dec.', 'NOUN'), ('31', 'NUM'), ('and', 'CONJ'), ('work', 'NOUN'), ('with', 'ADP'), ('his', 'PRON'), ('successor', 'NOUN'), (',', '.'), ('who', 'PRON'), ('*T*-36', 'X'), ('is', 'VERB'), ('*-1', 'X'), ('to', 'PRT'), ('be', 'VERB'), ('named', 'VERB'), ('*-43', 'X'), ('soon', 'ADV'), ('.', '.'), ('Life', 'NOUN'), ('of', 'ADP'), ('Georgia', 'NOUN'), ('is', 'VERB'), ('part', 'NOUN'), ('of', 'ADP'), ('the', 'DET'), ('Nationale', 'NOUN'), ('Nederlanden', 'NOUN'), ('Group', 'NOUN'), (',', '.'), ('based', 'VERB'), ('*', 'X'), ('in', 'ADP'), ('the', 'DET'), ('Netherlands', 'NOUN'), ('.', '.'), ('William', 'NOUN'), ('C.', 'NOUN'), ('Walbrecher', 'NOUN'), ('Jr.', 'NOUN'), (',', '.'), ('an', 'DET'), ('executive', 'ADJ'), ('at', 'ADP'), ('San', 'NOUN'), ('Francisco-based', 'NOUN'), ('1st', 'NOUN'), ('Nationwide', 'NOUN'), ('Bank', 'NOUN'), (',', '.'), ('was', 'VERB'), ('named', 'VERB'), ('*-1', 'X'), ('president', 'NOUN'), ('*RNR*-2', 'X'), ('and', 'CONJ'), ('chief', 'NOUN'), ('executive', 'NOUN'), ('officer', 'NOUN'), ('*ICH*-2', 'X'), ('of', 'ADP'), ('Citadel', 'NOUN'), ('Holding', 'NOUN'), ('Corp.', 'NOUN'), ('and', 'CONJ'), ('its', 'PRON'), ('principal', 'NOUN'), ('operating', 'NOUN'), ('unit', 'NOUN'), (',', '.'), ('Fidelity', 'NOUN'), ('Federal', 'NOUN'), ('Bank', 'NOUN'), ('.', '.'), ('A', 'DET'), ('man', 'NOUN'), ('from', 'ADP'), ('the', 'DET'), ('Bush', 'NOUN'), ('administration', 'NOUN'), ('came', 'VERB'), ('before', 'ADP'), ('the', 'DET'), ('House', 'NOUN'), ('Agriculture', 'NOUN'), ('Committee', 'NOUN'), ('yesterday', 'NOUN'), ('*-1', 'X'), ('to', 'PRT'), ('talk', 'VERB'), ('about', 'ADP'), ('the', 'DET'), ('U.S.', 'NOUN'), (\"'s\", 'PRT'), ('intention', 'NOUN'), ('*', 'X'), ('to', 'PRT'), ('send', 'VERB'), ('some', 'DET'), ('$', '.'), ('100', 'NUM'), ('million', 'NUM'), ('*U*', 'X'), ('in', 'ADP'), ('food', 'NOUN'), ('aid', 'NOUN'), ('to', 'PRT'), ('Poland', 'NOUN'), (',', '.'), ('with', 'ADP'), ('more', 'ADJ'), ('0', 'X'), ('*T*-2', 'X'), ('to', 'PRT'), ('come', 'VERB'), ('from', 'ADP'), ('the', 'DET'), ('EC', 'NOUN'), ('.', '.'), ('To', 'PRT'), ('the', 'DET'), ('extent', 'NOUN'), ('0', 'X'), ('they', 'PRON'), ('did', 'VERB'), (',', '.'), ('their', 'PRON'), ('concern', 'NOUN'), ('was', 'VERB'), ('*-1', 'X'), ('to', 'PRT'), ('ensure', 'NOUN'), ('fiscal', 'ADJ'), ('accountability', 'NOUN'), ('.', '.'), ('``', '.'), ('What', 'PRON'), ('*T*-164', 'NOUN'), (\"'s\", 'PRT'), ('different', 'ADJ'), ('is', 'VERB'), ('that', 'ADP'), ('it', 'PRON'), ('is', 'VERB'), ('happening', 'NOUN'), ('with', 'ADP'), ('young', 'ADJ'), ('wines', 'NOUN'), ('just', 'ADV'), ('coming', 'VERB'), ('out', 'PRT'), ('.', '.'), ('The', 'DET'), ('two', 'NUM'), ('banks', 'NOUN'), ('merged', 'VERB'), ('in', 'ADP'), ('1985', 'NUM'), ('.', '.'), ('The', 'DET'), ('decision', 'NOUN'), ('*', 'X'), ('to', 'PRT'), ('make', 'VERB'), ('the', 'DET'), ('bid', 'NOUN'), ('for', 'ADP'), ('Nekoosa', 'NOUN'), (',', '.'), ('for', 'ADP'), ('example', 'NOUN'), (',', '.'), ('was', 'VERB'), ('made', 'VERB'), ('*-2', 'X'), ('only', 'ADV'), ('after', 'ADP'), ('all', 'DET'), ('six', 'NUM'), ('members', 'NOUN'), ('of', 'ADP'), ('Georgia-Pacific', 'NOUN'), (\"'s\", 'PRT'), ('management', 'NOUN'), ('committee', 'NOUN'), ('signed', 'VERB'), ('onto', 'ADP'), ('the', 'DET'), ('deal', 'NOUN'), ('--', '.'), ('even', 'ADV'), ('though', 'ADP'), ('Mr.', 'NOUN'), ('Hahn', 'NOUN'), ('knew', 'VERB'), ('0', 'X'), ('he', 'PRON'), ('wanted', 'VERB'), ('*-3', 'X'), ('to', 'PRT'), ('go', 'VERB'), ('after', 'ADP'), ('the', 'DET'), ('company', 'NOUN'), ('early', 'ADV'), ('on', 'ADP'), (',', '.'), ('says', 'VERB'), ('0', 'X'), ('*T*-1', 'X'), ('Mr.', 'NOUN'), ('Correll', 'NOUN'), ('.', '.'), ('The', 'DET'), ('graphics', 'NOUN'), ('business', 'NOUN'), (',', '.'), ('which', 'DET'), ('*T*-2', 'X'), ('also', 'ADV'), ('was', 'VERB'), ('singled', 'NOUN'), ('out', 'PRT'), ('*-1', 'X'), ('by', 'ADP'), ('the', 'DET'), ('chairman', 'NOUN'), ('as', 'ADP'), ('a', 'DET'), ('positive', 'ADJ'), (',', '.'), ('saw', 'VERB'), ('its', 'PRON'), ('operating', 'VERB'), ('earnings', 'NOUN'), ('for', 'ADP'), ('the', 'DET'), ('quarter', 'NOUN'), ('jump', 'VERB'), ('79', 'NOUN'), ('%', 'NOUN'), ('to', 'PRT'), ('$', '.'), ('42.1', 'NOUN'), ('million', 'NUM'), ('*U*', 'X'), ('from', 'ADP'), ('$', '.'), ('23.5', 'NUM'), ('million', 'NUM'), ('*U*', 'X'), ('.', '.'), ('Travelers', 'NOUN'), ('Corp.', 'NOUN'), (\"'s\", 'PRT'), ('third-quarter', 'NOUN'), ('net', 'NOUN'), ('income', 'NOUN'), ('rose', 'VERB'), ('11', 'NUM'), ('%', 'NOUN'), (',', '.'), ('even', 'ADV'), ('though', 'ADP'), ('claims', 'NOUN'), ('stemming', 'VERB'), ('from', 'ADP'), ('Hurricane', 'NOUN'), ('Hugo', 'NOUN'), ('reduced', 'VERB'), ('results', 'NOUN'), ('$', '.'), ('40', 'NUM'), ('million', 'NUM'), ('*U*', 'X'), ('.', '.'), ('But', 'CONJ'), ('in', 'ADP'), ('the', 'DET'), ('letters', 'NOUN'), ('sent', 'VERB'), ('*', 'X'), ('in', 'ADP'), ('recent', 'ADJ'), ('days', 'NOUN'), (',', '.'), ('Christopher', 'NOUN'), ('J.', 'NOUN'), ('Lezovich', 'NOUN'), ('of', 'ADP'), ('the', 'DET'), ('IRS', 'NOUN'), ('computing', 'NOUN'), ('center', 'NOUN'), ('in', 'ADP'), ('Detroit', 'NOUN'), (',', '.'), ('told', 'VERB'), ('attorneys', 'NOUN'), ('that', 'ADP'), ('``', '.'), ('*', 'X'), ('failing', 'VERB'), ('*-1', 'X'), ('to', 'PRT'), ('voluntarily', 'ADV'), ('submit', 'VERB'), ('the', 'DET'), ('requested', 'VERB'), ('information', 'NOUN'), ('could', 'VERB'), ('result', 'VERB'), ('in', 'ADP'), ('summons', 'NOUN'), ('enforcement', 'NOUN'), ('action', 'NOUN'), ('being', 'VERB'), ('initiated', 'NOUN'), ('*-2', 'X'), ('.', '.'), (\"''\", '.'), ('This', 'DET'), ('cute', 'NOUN'), ('child', 'NOUN'), ('turns', 'VERB'), ('out', 'PRT'), ('*-1', 'X'), ('to', 'PRT'), ('be', 'VERB'), ('a', 'DET'), ('blessing', 'NOUN'), ('and', 'CONJ'), ('a', 'DET'), ('curse', 'NOUN'), ('.', '.'), ('*', 'X'), ('To', 'PRT'), ('make', 'VERB'), ('them', 'PRON'), ('directly', 'ADV'), ('comparable', 'ADJ'), (',', '.'), ('each', 'DET'), ('index', 'NOUN'), ('is', 'VERB'), ('based', 'VERB'), ('*-1', 'X'), ('on', 'ADP'), ('the', 'DET'), ('close', 'ADJ'), ('of', 'ADP'), ('1969', 'NOUN'), ('equaling', 'NOUN'), ('100', 'NUM'), ('.', '.'), ('It', 'PRON'), ('*EXP*-1', 'X'), ('is', 'VERB'), (\"n't\", 'ADV'), ('clear', 'ADJ'), (',', '.'), ('however', 'ADV'), (',', '.'), ('who', 'PRON'), ('*T*-2', 'X'), ('would', 'VERB'), ('win', 'VERB'), ('a', 'DET'), ('waiting', 'VERB'), ('game', 'NOUN'), ('.', '.'), ('They', 'PRON'), ('take', 'VERB'), ('place', 'NOUN'), ('in', 'ADP'), ('government', 'NOUN'), ('programs', 'NOUN'), ('that', 'ADP'), ('*T*-1', 'X'), ('seem', 'VERB'), ('tailor-made', 'NOUN'), ('for', 'ADP'), ('corruption', 'NOUN'), ('.', '.'), ('Investors', 'NOUN'), ('unsettled', 'NOUN'), ('*', 'X'), ('by', 'ADP'), ('the', 'DET'), ('stock', 'NOUN'), ('market', 'NOUN'), (\"'s\", 'PRT'), ('gyrations', 'NOUN'), ('can', 'VERB'), ('take', 'VERB'), ('some', 'DET'), ('comfort', 'NOUN'), ('in', 'ADP'), ('the', 'DET'), ('predictable', 'NOUN'), ('arrival', 'NOUN'), ('of', 'ADP'), ('quarterly', 'ADJ'), ('dividend', 'NOUN'), ('checks', 'NOUN'), ('.', '.'), ('Chairman', 'NOUN'), ('Theodore', 'NOUN'), ('Cooper', 'NOUN'), ('called', 'VERB'), ('the', 'DET'), ('program', 'NOUN'), ('part', 'NOUN'), ('of', 'ADP'), ('the', 'DET'), ('company', 'NOUN'), (\"'s\", 'PRT'), ('two-year', 'ADJ'), ('strategy', 'NOUN'), ('0', 'X'), ('*', 'X'), ('to', 'PRT'), ('implement', 'VERB'), ('budget', 'NOUN'), ('constraints', 'NOUN'), ('and', 'CONJ'), ('``', '.'), ('an', 'DET'), ('effective', 'ADJ'), ('headcount-control', 'NOUN'), ('program', 'NOUN'), ('*T*-1', 'X'), ('.', '.'), (\"''\", '.'), ('Most', 'ADJ'), ('boosters', 'NOUN'), ('claim', 'VERB'), ('0', 'X'), ('the', 'DET'), ('new', 'ADJ'), ('sports', 'NOUN'), ('complexes', 'NOUN'), ('will', 'VERB'), ('be', 'VERB'), ('moneymakers', 'NOUN'), ('for', 'ADP'), ('their', 'PRON'), ('city', 'NOUN'), ('.', '.'), ('Takeover', 'NOUN'), ('experts', 'NOUN'), ('said', 'VERB'), ('0', 'X'), ('they', 'PRON'), ('doubted', 'VERB'), ('0', 'X'), ('the', 'DET'), ('financier', 'NOUN'), ('would', 'VERB'), ('make', 'VERB'), ('a', 'DET'), ('bid', 'NOUN'), ('by', 'ADP'), ('himself', 'PRON'), ('.', '.'), ('But', 'CONJ'), ('Rep.', 'NOUN'), ('Don', 'NOUN'), ('Edwards', 'NOUN'), ('-LRB-', '.'), ('D.', 'NOUN'), (',', '.'), ('Calif', 'NOUN'), ('.', '.'), ('-RRB-', '.'), ('responded', 'VERB'), ('that', 'ADP'), ('a', 'DET'), ('recession', 'NOUN'), ('could', 'VERB'), ('stifle', 'NOUN'), ('merger', 'NOUN'), ('activity', 'NOUN'), (',', '.'), ('*-1', 'X'), ('reducing', 'VERB'), ('the', 'DET'), ('amount', 'NOUN'), ('of', 'ADP'), ('fees', 'NOUN'), ('collected', 'VERB'), ('*', 'X'), ('.', '.'), ('The', 'DET'), ('California', 'NOUN'), ('Supreme', 'NOUN'), ('Court', 'NOUN'), ('last', 'ADJ'), ('year', 'NOUN'), ('reversed', 'NOUN'), ('direction', 'NOUN'), ('*-1', 'X'), ('to', 'PRT'), ('make', 'VERB'), ('it', 'PRON'), ('*EXP*-2', 'X'), ('much', 'ADV'), ('harder', 'ADJ'), ('*', 'X'), ('to', 'PRT'), ('win', 'VERB'), ('DES', 'NOUN'), ('cases', 'NOUN'), ('because', 'ADP'), ('the', 'DET'), ('justices', 'NOUN'), ('saw', 'VERB'), ('how', 'ADV'), ('all', 'DET'), ('the', 'DET'), ('pharmaceutical', 'ADJ'), ('litigation', 'NOUN'), ('has', 'VERB'), ('chilled', 'NOUN'), ('the', 'DET'), ('introduction', 'NOUN'), ('of', 'ADP'), ('new', 'ADJ'), ('drugs', 'NOUN'), ('*T*-3', 'X'), ('.', '.'), ('Japan', 'NOUN'), (\"'s\", 'PRT'), ('domestic', 'ADJ'), ('sales', 'NOUN'), ('of', 'ADP'), ('cars', 'NOUN'), (',', '.'), ('trucks', 'NOUN'), ('and', 'CONJ'), ('buses', 'NOUN'), ('in', 'ADP'), ('October', 'NOUN'), ('rose', 'VERB'), ('18', 'NUM'), ('%', 'NOUN'), ('from', 'ADP'), ('a', 'DET'), ('year', 'NOUN'), ('earlier', 'ADV'), ('to', 'PRT'), ('500,004', 'NOUN'), ('units', 'NOUN'), (',', '.'), ('a', 'DET'), ('record', 'NOUN'), ('for', 'ADP'), ('the', 'DET'), ('month', 'NOUN'), (',', '.'), ('the', 'DET'), ('Japan', 'NOUN'), ('Automobile', 'NOUN'), ('Dealers', 'NOUN'), (\"'\", 'PRT'), ('Association', 'NOUN'), ('said', 'VERB'), ('0', 'X'), ('*T*-1', 'X'), ('.', '.'), ('Mr.', 'NOUN'), ('Sherwood', 'NOUN'), ('speculated', 'VERB'), ('that', 'ADP'), ('the', 'DET'), ('leeway', 'NOUN'), ('that', 'ADP'), ('Sea', 'NOUN'), ('Containers', 'NOUN'), ('has', 'VERB'), ('*T*-1', 'X'), ('means', 'VERB'), ('that', 'ADP'), ('Temple', 'NOUN'), ('would', 'VERB'), ('have', 'VERB'), ('*-2', 'X'), ('to', 'PRT'), ('``', '.'), ('substantially', 'ADV'), ('increase', 'VERB'), ('their', 'PRON'), ('bid', 'NOUN'), ('if', 'ADP'), ('they', 'PRON'), (\"'re\", 'VERB'), ('going', 'VERB'), ('*-3', 'X'), ('to', 'PRT'), ('top', 'ADJ'), ('us', 'PRON'), ('.', '.'), (\"''\", '.'), ('``', '.'), ('Even', 'ADV'), ('the', 'DET'), ('7.2', 'NUM'), ('%', 'NOUN'), ('return', 'NOUN'), ('from', 'ADP'), ('the', 'DET'), ('risk-free', 'NOUN'), ('three-month', 'ADJ'), ('Treasury', 'NOUN'), ('bill', 'NOUN'), ('has', 'VERB'), ('easily', 'ADV'), ('outdistanced', 'NOUN'), ('the', 'DET'), ('4.1', 'NUM'), ('%', 'NOUN'), ('return', 'NOUN'), ('from', 'ADP'), ('junk', 'NOUN'), ('bonds', 'NOUN'), (',', '.'), (\"''\", '.'), ('wrote', 'VERB'), ('*T*-1', 'X'), ('Moody', 'NOUN'), (\"'s\", 'PRT'), ('economist', 'NOUN'), ('John', 'NOUN'), ('Lonski', 'NOUN'), ('in', 'ADP'), ('yesterday', 'NOUN'), (\"'s\", 'PRT'), ('market', 'NOUN'), ('report', 'NOUN'), ('.', '.'), ('The', 'DET'), ('newest', 'NOUN'), ('breed', 'NOUN'), (',', '.'), ('also', 'ADV'), ('called', 'VERB'), ('*', 'X'), ('``', '.'), ('rocket', 'NOUN'), ('scientists', 'NOUN'), (\"''\", '.'), ('because', 'ADP'), ('of', 'ADP'), ('their', 'PRON'), ('backgrounds', 'NOUN'), ('in', 'ADP'), ('physics', 'NOUN'), ('and', 'CONJ'), ('mathematics', 'NOUN'), (',', '.'), ('devise', 'VERB'), ('the', 'DET'), ('complex', 'ADJ'), ('hedging', 'NOUN'), ('and', 'CONJ'), ('trading', 'NOUN'), ('strategies', 'NOUN'), ('that', 'ADP'), ('*T*-1', 'X'), ('are', 'VERB'), ('popularly', 'NOUN'), ('known', 'VERB'), ('*-2', 'X'), ('as', 'ADP'), ('program', 'NOUN'), ('trading', 'NOUN'), ('.', '.'), ('Strong', 'NOUN'), ('dividend', 'NOUN'), ('growth', 'NOUN'), (',', '.'), ('he', 'PRON'), ('says', 'VERB'), ('0', 'X'), ('*T*-1', 'X'), (',', '.'), ('is', 'VERB'), ('``', '.'), ('the', 'DET'), ('black', 'ADJ'), ('widow', 'NOUN'), ('of', 'ADP'), ('valuation', 'NOUN'), (\"''\", '.'), ('--', '.'), ('a', 'DET'), ('reference', 'NOUN'), ('to', 'PRT'), ('the', 'DET'), ('female', 'ADJ'), ('spiders', 'NOUN'), ('that', 'ADP'), ('*T*-231', 'NOUN'), ('attract', 'VERB'), ('males', 'NOUN'), ('and', 'CONJ'), ('then', 'ADV'), ('kill', 'VERB'), ('them', 'PRON'), ('after', 'ADP'), ('mating', 'NOUN'), ('.', '.'), ('Among', 'ADP'), ('the', 'DET'), ('lot', 'NOUN'), ('of', 'ADP'), ('them', 'PRON'), (',', '.'), ('not', 'ADV'), ('one', 'NUM'), ('is', 'VERB'), ('wrestling', 'NOUN'), ('with', 'ADP'), ('good', 'ADJ'), ('and', 'CONJ'), ('evil', 'ADJ'), (',', '.'), ('or', 'CONJ'), ('especially', 'ADV'), ('intelligent', 'NOUN'), ('or', 'CONJ'), ('even', 'ADV'), ('temporarily', 'ADV'), ('insane', 'NOUN'), ('.', '.'), ('But', 'CONJ'), ('several', 'ADJ'), ('teachers', 'NOUN'), ('also', 'ADV'), ('say', 'VERB'), ('0', 'X'), ('the', 'DET'), ('incident', 'NOUN'), ('casts', 'VERB'), ('doubt', 'NOUN'), ('on', 'ADP'), ('the', 'DET'), ('wisdom', 'NOUN'), ('of', 'ADP'), ('*', 'X'), ('evaluating', 'NOUN'), ('teachers', 'NOUN'), ('or', 'CONJ'), ('schools', 'NOUN'), ('by', 'ADP'), ('*', 'X'), ('using', 'VERB'), ('standardized', 'ADJ'), ('test', 'NOUN'), ('scores', 'NOUN'), ('.', '.'), ('``', '.'), ('I', 'PRON'), ('would', 'VERB'), ('like', 'ADP'), ('*-1', 'X'), ('to', 'PRT'), ('go', 'VERB'), ('back', 'ADV'), ('to', 'PRT'), ('1970', 'NUM'), ('.', '.'), ('Chemical', 'NOUN'), ('Bank', 'NOUN'), ('spent', 'VERB'), ('more', 'ADV'), ('than', 'ADP'), ('$', '.'), ('50', 'NUM'), ('million', 'NUM'), ('*U*', 'X'), ('*-1', 'X'), ('to', 'PRT'), ('introduce', 'VERB'), ('its', 'PRON'), ('ChemPlus', 'NOUN'), ('line', 'NOUN'), (',', '.'), ('several', 'ADJ'), ('packages', 'NOUN'), ('aimed', 'VERB'), ('*', 'X'), ('at', 'ADP'), ('different', 'ADJ'), ('segments', 'NOUN'), (',', '.'), ('in', 'ADP'), ('1986', 'NUM'), (',', '.'), ('according', 'VERB'), ('to', 'PRT'), ('Thomas', 'NOUN'), ('Jacob', 'NOUN'), (',', '.'), ('senior', 'ADJ'), ('vice', 'NOUN'), ('president', 'NOUN'), ('of', 'ADP'), ('marketing', 'NOUN'), ('.', '.'), ('Arbitrage-related', 'NOUN'), ('trading', 'NOUN'), ('during', 'ADP'), ('the', 'DET'), ('session', 'NOUN'), ('was', 'VERB'), ('confined', 'VERB'), ('*-1', 'X'), ('largely', 'ADV'), ('to', 'PRT'), ('a', 'DET'), ('round', 'NOUN'), ('of', 'ADP'), ('buy', 'NOUN'), ('programs', 'NOUN'), ('near', 'ADP'), ('the', 'DET'), ('close', 'ADJ'), (',', '.'), ('which', 'DET'), ('*T*-2', 'X'), ('helped', 'VERB'), ('*-3', 'X'), ('offset', 'VERB'), ('the', 'DET'), ('impact', 'NOUN'), ('of', 'ADP'), ('profit-taking', 'NOUN'), ('among', 'ADP'), ('blue', 'ADJ'), ('chips', 'NOUN'), ('.', '.'), ('Copperweld', 'NOUN'), ('said', 'VERB'), ('0', 'X'), ('it', 'PRON'), ('does', 'VERB'), (\"n't\", 'ADV'), ('expect', 'VERB'), ('a', 'DET'), ('protracted', 'ADJ'), ('strike', 'NOUN'), ('.', '.'), ('``', '.'), ('This', 'DET'), ('market', 'NOUN'), (\"'s\", 'PRT'), ('still', 'ADV'), ('going', 'VERB'), ('through', 'ADP'), ('its', 'PRON'), ('pains', 'NOUN'), (',', '.'), (\"''\", '.'), ('said', 'VERB'), ('*T*-1', 'X'), ('Philip', 'NOUN'), ('Puccio', 'NOUN'), (',', '.'), ('head', 'NOUN'), ('of', 'ADP'), ('equity', 'NOUN'), ('trading', 'NOUN'), ('at', 'ADP'), ('Prudential-Bache', 'NOUN'), ('Securities', 'NOUN'), ('.', '.'), ('The', 'DET'), ('St.', 'NOUN'), ('Louis', 'NOUN'), ('firm', 'NOUN'), ('specializes', 'VERB'), ('in', 'ADP'), ('replacement-car', 'NOUN'), ('rentals', 'NOUN'), (',', '.'), ('those', 'DET'), ('provided', 'VERB'), ('*', 'X'), ('by', 'ADP'), ('insurance', 'NOUN'), ('companies', 'NOUN'), ('for', 'ADP'), ('cars', 'NOUN'), ('damaged', 'VERB'), ('*', 'X'), ('in', 'ADP'), ('accidents', 'NOUN'), ('.', '.'), ('Yet', 'CONJ'), ('many', 'ADJ'), ('such', 'ADJ'), ('managers', 'NOUN'), ('consistently', 'ADV'), ('fail', 'VERB'), ('*-2', 'X'), ('to', 'PRT'), ('even', 'ADV'), ('keep', 'VERB'), ('up', 'ADV'), ('with', 'ADP'), ('*RNR*-1', 'X'), (',', '.'), ('much', 'ADV'), ('less', 'ADJ'), ('beat', 'VERB'), ('*RNR*-1', 'X'), (',', '.'), ('the', 'DET'), ('returns', 'NOUN'), ('of', 'ADP'), ('standard', 'ADJ'), ('benchmarks', 'NOUN'), ('like', 'ADP'), ('the', 'DET'), ('S&P', 'NOUN'), ('$', '.'), ('80.8', 'NOUN'), ('million', 'NUM'), ('*U*', 'X'), ('of', 'ADP'), ('single-family', 'ADJ'), ('program', 'NOUN'), ('bonds', 'NOUN'), (',', '.'), ('1989', 'NUM'), ('fourth', 'ADJ'), ('and', 'CONJ'), ('fifth', 'ADJ'), ('series', 'NOUN'), (',', '.'), ('tentatively', 'ADV'), ('priced', 'VERB'), ('*', 'X'), ('by', 'ADP'), ('a', 'DET'), ('Merrill', 'NOUN'), ('Lynch', 'NOUN'), ('Capital', 'NOUN'), ('Markets', 'NOUN'), ('group', 'NOUN'), ('*', 'X'), ('to', 'PRT'), ('yield', 'VERB'), ('from', 'ADP'), ('6.25', 'NUM'), ('%', 'NOUN'), ('in', 'ADP'), ('1992', 'NUM'), ('for', 'ADP'), ('fourth', 'ADJ'), ('series', 'NOUN'), ('bonds', 'NOUN'), ('to', 'PRT'), ('7.74', 'NUM'), ('%', 'NOUN'), ('in', 'ADP'), ('2029', 'NUM'), ('for', 'ADP'), ('fifth', 'ADJ'), ('series', 'NOUN'), ('bonds', 'NOUN'), ('.', '.'), ('The', 'DET'), ('filing', 'NOUN'), ('adds', 'VERB'), ('a', 'DET'), ('new', 'ADJ'), ('twist', 'NOUN'), ('to', 'PRT'), ('market', 'NOUN'), ('speculation', 'NOUN'), ('that', 'ADP'), ('Coniston', 'NOUN'), ('Partners', 'NOUN'), (',', '.'), ('a', 'DET'), ('New', 'NOUN'), ('York', 'NOUN'), ('money', 'NOUN'), ('manager', 'NOUN'), (',', '.'), ('has', 'VERB'), ('bought', 'VERB'), ('more', 'ADV'), ('than', 'ADP'), ('5', 'NUM'), ('%', 'NOUN'), ('of', 'ADP'), ('UAL', 'NOUN'), ('stock', 'NOUN'), ('and', 'CONJ'), ('may', 'VERB'), ('challenge', 'NOUN'), ('the', 'DET'), ('UAL', 'NOUN'), ('board', 'NOUN'), (\"'s\", 'PRT'), ('decision', 'NOUN'), ('*ICH*-1', 'X'), ('last', 'ADJ'), ('week', 'NOUN'), ('*', 'X'), ('to', 'PRT'), ('remain', 'VERB'), ('independent', 'ADJ'), ('.', '.'), ('GenCorp', 'NOUN'), ('Inc.', 'NOUN'), (',', '.'), ('hurt', 'VERB'), ('*', 'X'), ('by', 'ADP'), ('a', 'DET'), ('plant', 'NOUN'), ('accident', 'NOUN'), ('and', 'CONJ'), ('other', 'ADJ'), ('unexpected', 'NOUN'), ('costs', 'NOUN'), (',', '.'), ('said', 'VERB'), ('0', 'X'), ('it', 'PRON'), ('expects', 'VERB'), ('*-1', 'X'), ('to', 'PRT'), ('report', 'NOUN'), ('that', 'ADP'), ('fiscal', 'ADJ'), ('fourth-quarter', 'NOUN'), ('profit', 'NOUN'), ('from', 'ADP'), ('continuing', 'VERB'), ('operations', 'NOUN'), ('will', 'VERB'), ('be', 'VERB'), ('significantly', 'ADV'), ('below', 'ADP'), ('last', 'ADJ'), ('year', 'NOUN'), (\"'s\", 'PRT'), ('$', '.'), ('25', 'NUM'), ('million', 'NUM'), ('*U*', 'X'), ('.', '.'), ('The', 'DET'), ('32', 'NUM'), ('%', 'NOUN'), ('state-owned', 'ADJ'), ('DSM', 'NOUN'), ('had', 'VERB'), ('eight', 'NUM'), ('million', 'NUM'), ('guilders', 'NOUN'), ('of', 'ADP'), ('extraordinary', 'ADJ'), ('charges', 'NOUN'), ('in', 'ADP'), ('the', 'DET'), ('latest', 'ADJ'), ('quarter', 'NOUN'), (',', '.'), ('mainly', 'ADV'), ('*', 'X'), ('to', 'PRT'), ('reflect', 'VERB'), ('one-time', 'ADJ'), ('losses', 'NOUN'), ('in', 'ADP'), ('connection', 'NOUN'), ('with', 'ADP'), ('the', 'DET'), ('disposal', 'NOUN'), ('of', 'ADP'), ('some', 'DET'), ('operations', 'NOUN'), ('.', '.'), ('This', 'DET'), ('trial', 'NOUN'), ('is', 'VERB'), ('expected', 'VERB'), ('*-1', 'X'), ('to', 'PRT'), ('last', 'ADJ'), ('five', 'NUM'), ('weeks', 'NOUN'), ('.', '.'), ('In', 'ADP'), ('national', 'ADJ'), ('over-the-counter', 'ADJ'), ('trading', 'NOUN'), ('yesterday', 'NOUN'), (',', '.'), ('POP', 'NOUN'), ('plunged', 'VERB'), ('$', '.'), ('4', 'NUM'), ('*U*', 'X'), ('to', 'PRT'), ('$', '.'), ('14.75', 'NOUN'), ('*U*', 'X'), ('.', '.'), ('Bonds', 'NOUN'), ('due', 'ADJ'), ('in', 'ADP'), ('2005', 'NUM'), ('have', 'VERB'), ('a', 'DET'), ('7', 'NUM'), ('1\\\\/2', 'NUM'), ('%', 'NOUN'), ('coupon', 'NOUN'), ('and', 'CONJ'), ('are', 'VERB'), ('priced', 'VERB'), ('*-1', 'X'), ('at', 'ADP'), ('par', 'NOUN'), ('.', '.'), ('What', 'PRON'), ('*T*-247', 'NOUN'), (\"'s\", 'PRT'), ('wrong', 'ADJ'), ('with', 'ADP'), ('*', 'X'), ('asking', 'VERB'), ('for', 'ADP'), ('more', 'ADJ'), ('money', 'NOUN'), ('?', '.'), ('People', 'NOUN'), ('close', 'VERB'), ('to', 'PRT'), ('the', 'DET'), ('utility', 'NOUN'), ('industry', 'NOUN'), ('said', 'VERB'), ('0', 'X'), ('Mr.', 'NOUN'), ('Dingell', 'NOUN'), (\"'s\", 'PRT'), ('proposal', 'NOUN'), ('appears', 'VERB'), ('*-3', 'X'), ('to', 'PRT'), ('guarantee', 'NOUN'), ('only', 'ADV'), ('an', 'DET'), ('estimated', 'VERB'), ('seven-million-ton', 'NOUN'), ('cut', 'VERB'), ('in', 'ADP'), ('annual', 'ADJ'), ('sulfur-dioxide', 'NOUN'), ('emissions', 'NOUN'), ('that', 'ADP'), ('*T*-2', 'X'), ('lead', 'VERB'), ('to', 'PRT'), ('acid', 'ADJ'), ('rain', 'NOUN'), (',', '.'), ('though', 'ADP'), ('additional', 'ADJ'), ('cuts', 'NOUN'), ('could', 'VERB'), ('be', 'VERB'), ('ordered', 'VERB'), ('*-1', 'X'), ('later', 'ADJ'), ('.', '.'), ('Gary', 'NOUN'), ('Hoffman', 'NOUN'), (',', '.'), ('a', 'DET'), ('Washington', 'NOUN'), ('lawyer', 'NOUN'), ('specializing', 'NOUN'), ('in', 'ADP'), ('intellectual-property', 'ADJ'), ('cases', 'NOUN'), (',', '.'), ('said', 'VERB'), ('0', 'X'), ('the', 'DET'), ('threat', 'NOUN'), ('of', 'ADP'), ('U.S.', 'NOUN'), ('retaliation', 'NOUN'), (',', '.'), ('combined', 'VERB'), ('*', 'X'), ('with', 'ADP'), ('a', 'DET'), ('growing', 'VERB'), ('recognition', 'NOUN'), ('that', 'ADP'), ('*', 'X'), ('protecting', 'VERB'), ('intellectual', 'ADJ'), ('property', 'NOUN'), ('is', 'VERB'), ('in', 'ADP'), ('a', 'DET'), ('country', 'NOUN'), (\"'s\", 'PRT'), ('own', 'ADJ'), ('interest', 'NOUN'), (',', '.'), ('prompted', 'VERB'), ('the', 'DET'), ('improvements', 'NOUN'), ('made', 'VERB'), ('*', 'X'), ('by', 'ADP'), ('South', 'NOUN'), ('Korea', 'NOUN'), (',', '.'), ('Taiwan', 'NOUN'), ('and', 'CONJ'), ('Saudi', 'NOUN'), ('Arabia', 'NOUN'), ('.', '.'), ('Who', 'PRON'), ('*T*-1', 'X'), (\"'s\", 'PRT'), ('telling', 'VERB'), ('the', 'DET'), ('truth', 'NOUN'), ('?', '.'), ('It', 'PRON'), ('said', 'VERB'), ('0', 'X'), ('insurance', 'NOUN'), ('profit', 'NOUN'), ('reflected', 'VERB'), ('a', 'DET'), ('$', '.'), ('6', 'NUM'), ('million', 'NUM'), ('*U*', 'X'), ('loss', 'NOUN'), ('from', 'ADP'), ('Hurricane', 'NOUN'), ('Hugo', 'NOUN'), ('.', '.'), ('You', 'PRON'), ('have', 'VERB'), ('a', 'DET'), ('right', 'NOUN'), ('*-2', 'X'), ('to', 'PRT'), ('read', 'VERB'), ('Voice', 'NOUN'), ('of', 'ADP'), ('America', 'NOUN'), ('scripts', 'NOUN'), ('if', 'ADP'), ('you', 'PRON'), ('do', 'VERB'), (\"n't\", 'ADV'), ('mind', 'NOUN'), ('*-1', 'X'), ('traveling', 'VERB'), ('to', 'PRT'), ('Washington', 'NOUN'), ('every', 'DET'), ('week', 'NOUN'), ('or', 'CONJ'), ('so', 'ADV'), ('and', 'CONJ'), ('*-1', 'X'), ('visiting', 'VERB'), ('the', 'DET'), ('Voice', 'NOUN'), ('office', 'NOUN'), ('during', 'ADP'), ('business', 'NOUN'), ('hours', 'NOUN'), ('.', '.'), ('The', 'DET'), ('event', 'NOUN'), ('continues', 'VERB'), ('into', 'ADP'), ('next', 'ADJ'), ('year', 'NOUN'), ('and', 'CONJ'), ('includes', 'VERB'), ('an', 'DET'), ('exchange', 'NOUN'), ('program', 'NOUN'), ('*', 'X'), ('to', 'PRT'), ('swap', 'NOUN'), ('design', 'NOUN'), ('teachers', 'NOUN'), ('at', 'ADP'), ('Carnegie-Mellon', 'NOUN'), ('and', 'CONJ'), ('Leningrad', 'NOUN'), (\"'s\", 'PRT'), ('Mutchin', 'NOUN'), ('Institute', 'NOUN'), ('.', '.'), ('The', 'DET'), ('following', 'NOUN'), ('were', 'VERB'), ('among', 'ADP'), ('yesterday', 'NOUN'), (\"'s\", 'PRT'), ('offerings', 'NOUN'), ('and', 'CONJ'), ('pricings', 'NOUN'), ('in', 'ADP'), ('the', 'DET'), ('U.S.', 'NOUN'), ('and', 'CONJ'), ('non-U.S.', 'NOUN'), ('capital', 'NOUN'), ('markets', 'NOUN'), (',', '.'), ('with', 'ADP'), ('terms', 'NOUN'), ('and', 'CONJ'), ('syndicate', 'NOUN'), ('manager', 'NOUN'), (',', '.'), ('as', 'ADP'), ('*', 'X'), ('compiled', 'NOUN'), ('*-1', 'X'), ('by', 'ADP'), ('Dow', 'NOUN'), ('Jones', 'NOUN'), ('Capital', 'NOUN'), ('Markets', 'NOUN'), ('Report', 'NOUN'), (':', '.'), ('New', 'NOUN'), ('York-based', 'NOUN'), ('Alleghany', 'NOUN'), ('is', 'VERB'), ('an', 'DET'), ('insurance', 'NOUN'), ('and', 'CONJ'), ('financial', 'ADJ'), ('services', 'NOUN'), ('concern', 'NOUN'), ('.', '.'), ('Your', 'PRON'), ('Oct.', 'NOUN'), ('13', 'NUM'), ('page-one', 'NOUN'), ('story', 'NOUN'), ('on', 'ADP'), ('the', 'DET'), ('renewed', 'VERB'), ('plight', 'NOUN'), ('of', 'ADP'), ('Western', 'ADJ'), ('Union', 'NOUN'), ('says', 'VERB'), ('that', 'ADP'), ('Western', 'ADJ'), ('Union', 'NOUN'), ('had', 'VERB'), ('lost', 'VERB'), ('its', 'PRON'), ('chance', 'NOUN'), ('*', 'X'), ('to', 'PRT'), ('be', 'VERB'), ('in', 'ADP'), ('the', 'DET'), ('telephone', 'NOUN'), ('business', 'NOUN'), ('by', 'ADP'), ('*-1', 'X'), ('turning', 'VERB'), ('down', 'ADV'), ('Alexander', 'NOUN'), ('Graham', 'NOUN'), ('Bell', 'NOUN'), (\"'s\", 'PRT'), ('offer', 'NOUN'), ('to', 'PRT'), ('it', 'PRON'), ('of', 'ADP'), ('his', 'PRON'), ('invention', 'NOUN'), (',', '.'), ('because', 'ADP'), ('it', 'PRON'), ('supposedly', 'ADV'), ('felt', 'VERB'), ('that', 'ADP'), ('voice', 'NOUN'), ('communication', 'NOUN'), ('would', 'VERB'), ('never', 'ADV'), ('replace', 'VERB'), ('the', 'DET'), ('telegraph', 'VERB'), ('.', '.'), ('Without', 'ADP'), ('*-1', 'X'), ('admitting', 'VERB'), ('or', 'CONJ'), ('denying', 'VERB'), ('wrongdoing', 'NOUN'), (',', '.'), ('the', 'DET'), ('firm', 'NOUN'), ('consented', 'VERB'), ('to', 'PRT'), ('findings', 'NOUN'), ('that', 'ADP'), ('it', 'PRON'), ('failed', 'VERB'), ('*-2', 'X'), ('to', 'PRT'), ('respond', 'VERB'), ('``', '.'), ('in', 'ADP'), ('a', 'DET'), ('timely', 'NOUN'), ('manner', 'NOUN'), (\"''\", '.'), ('to', 'PRT'), ('the', 'DET'), ('NASD', 'NOUN'), (\"'s\", 'PRT'), ('requests', 'NOUN'), ('for', 'ADP'), ('information', 'NOUN'), ('in', 'ADP'), ('connection', 'NOUN'), ('with', 'ADP'), ('a', 'DET'), ('customer', 'NOUN'), ('complaint', 'NOUN'), ('.', '.'), ('The', 'DET'), ('Soviet', 'ADJ'), ('Union', 'NOUN'), ('bought', 'VERB'), ('roughly', 'ADV'), ('310', 'NUM'), ('million', 'NUM'), ('bushels', 'NOUN'), ('of', 'ADP'), ('U.S.', 'NOUN'), ('corn', 'NOUN'), ('*ICH*-2', 'X'), ('in', 'ADP'), ('October', 'NOUN'), (',', '.'), ('which', 'DET'), ('*T*-1', 'X'), ('is', 'VERB'), ('the', 'DET'), ('most', 'ADJ'), ('ever', 'ADV'), ('sold', 'VERB'), ('*', 'X'), ('to', 'PRT'), ('the', 'DET'), ('Soviet', 'ADJ'), ('Union', 'NOUN'), ('in', 'ADP'), ('one', 'NUM'), ('month', 'NOUN'), ('from', 'ADP'), ('the', 'DET'), ('U.S.', 'NOUN'), ('.', '.'), ('But', 'CONJ'), ('he', 'PRON'), ('also', 'ADV'), ('showed', 'VERB'), ('a', 'DET'), ('willingness', 'NOUN'), ('*-1', 'X'), ('to', 'PRT'), ('take', 'VERB'), ('a', 'DET'), ('strong', 'ADJ'), ('stand', 'NOUN'), ('.', '.'), ('But', 'CONJ'), ('they', 'PRON'), ('have', 'VERB'), (\"n't\", 'ADV'), ('clarified', 'NOUN'), ('what', 'PRON'), ('those', 'DET'), ('might', 'VERB'), ('be', 'VERB'), ('*T*-187', 'NOUN'), ('.', '.'), ('If', 'ADP'), ('he', 'PRON'), ('does', 'VERB'), ('not', 'ADV'), (',', '.'), ('he', 'PRON'), ('will', 'VERB'), ('help', 'VERB'), ('*-1', 'X'), ('realize', 'VERB'), ('Madison', 'NOUN'), (\"'s\", 'PRT'), ('fear', 'VERB'), ('in', 'ADP'), ('The', 'DET'), ('Federalist', 'NOUN'), ('No.', 'NOUN'), ('48', 'NUM'), ('of', 'ADP'), ('a', 'DET'), ('legislature', 'NOUN'), ('``', '.'), ('everywhere', 'ADV'), ('extending', 'VERB'), ('the', 'DET'), ('sphere', 'NOUN'), ('of', 'ADP'), ('its', 'PRON'), ('activity', 'NOUN'), ('and', 'CONJ'), ('drawing', 'NOUN'), ('all', 'DET'), ('powers', 'NOUN'), ('into', 'ADP'), ('its', 'PRON'), ('impetuous', 'NOUN'), ('vortex', 'NOUN'), ('.', '.'), (\"''\", '.'), ('Thus', 'ADV'), (',', '.'), ('an', 'DET'), ('institution', 'NOUN'), ('obligated', 'NOUN'), ('*', 'X'), ('to', 'PRT'), ('make', 'VERB'), ('fixed-rate', 'ADJ'), ('interest', 'NOUN'), ('payments', 'NOUN'), ('on', 'ADP'), ('debt', 'NOUN'), ('swaps', 'NOUN'), ('the', 'DET'), ('payments', 'NOUN'), ('with', 'ADP'), ('another', 'DET'), ('making', 'VERB'), ('floating-rate', 'ADJ'), ('payments', 'NOUN'), ('.', '.'), ('The', 'DET'), ('action', 'NOUN'), ('on', 'ADP'), ('Poland', 'NOUN'), ('came', 'VERB'), ('as', 'ADP'), ('the', 'DET'), ('conference', 'NOUN'), ('separately', 'NOUN'), ('approved', 'VERB'), ('$', '.'), ('220', 'NOUN'), ('million', 'NUM'), ('*U*', 'X'), ('for', 'ADP'), ('international', 'ADJ'), ('population', 'NOUN'), ('planning', 'VERB'), ('activities', 'NOUN'), (',', '.'), ('an', 'DET'), ('11', 'NUM'), ('%', 'NOUN'), ('increase', 'NOUN'), ('over', 'ADP'), ('fiscal', 'ADJ'), ('1989', 'NUM'), ('.', '.'), ('Typically', 'ADV'), (',', '.'), ('money-fund', 'NOUN'), ('yields', 'NOUN'), ('beat', 'VERB'), ('comparable', 'ADJ'), ('short-term', 'ADJ'), ('investments', 'NOUN'), ('because', 'ADP'), ('portfolio', 'NOUN'), ('managers', 'NOUN'), ('can', 'VERB'), ('vary', 'VERB'), ('maturities', 'NOUN'), ('and', 'CONJ'), ('go', 'VERB'), ('after', 'ADP'), ('the', 'DET'), ('highest', 'ADJ'), ('rates', 'NOUN'), ('.', '.'), ('The', 'DET'), ('Constitution', 'NOUN'), ('does', 'VERB'), ('not', 'ADV'), ('expressly', 'NOUN'), ('give', 'VERB'), ('the', 'DET'), ('president', 'NOUN'), ('such', 'ADJ'), ('power', 'NOUN'), ('.', '.'), ('The', 'DET'), ('Latin', 'NOUN'), ('American', 'NOUN'), ('nation', 'NOUN'), ('has', 'VERB'), ('paid', 'VERB'), ('very', 'ADV'), ('little', 'ADJ'), ('on', 'ADP'), ('its', 'PRON'), ('debt', 'NOUN'), ('since', 'ADP'), ('early', 'ADJ'), ('last', 'ADJ'), ('year', 'NOUN'), ('.', '.'), ('a', 'DET'), ('-', '.'), ('Average', 'NOUN'), ('rate', 'NOUN'), ('paid', 'VERB'), ('*', 'X'), ('yesterday', 'NOUN'), ('by', 'ADP'), ('100', 'NUM'), ('large', 'ADJ'), ('banks', 'NOUN'), ('and', 'CONJ'), ('thrifts', 'NOUN'), ('in', 'ADP'), ('the', 'DET'), ('10', 'NUM'), ('largest', 'ADJ'), ('metropolitan', 'NOUN'), ('areas', 'NOUN'), ('as', 'ADP'), ('*', 'X'), ('compiled', 'NOUN'), ('*-2', 'X'), ('by', 'ADP'), ('Bank', 'NOUN'), ('Rate', 'NOUN'), ('Monitor', 'NOUN'), ('.', '.'), ('Under', 'ADP'), ('terms', 'NOUN'), ('of', 'ADP'), ('the', 'DET'), ('spinoff', 'NOUN'), (',', '.'), ('Cray', 'NOUN'), ('Research', 'NOUN'), ('stockholders', 'NOUN'), ('are', 'VERB'), ('*-1', 'X'), ('to', 'PRT'), ('receive', 'VERB'), ('one', 'NUM'), ('Cray', 'NOUN'), ('Computer', 'NOUN'), ('share', 'NOUN'), ('for', 'ADP'), ('every', 'DET'), ('two', 'NUM'), ('Cray', 'NOUN'), ('Research', 'NOUN'), ('shares', 'NOUN'), ('0', 'X'), ('they', 'PRON'), ('own', 'ADJ'), ('*T*-2', 'X'), ('in', 'ADP'), ('a', 'DET'), ('distribution', 'NOUN'), ('expected', 'VERB'), ('*', 'X'), ('to', 'PRT'), ('occur', 'VERB'), ('in', 'ADP'), ('about', 'ADP'), ('two', 'NUM'), ('weeks', 'NOUN'), ('.', '.'), ('Government', 'NOUN'), ('construction', 'NOUN'), ('spending', 'NOUN'), ('rose', 'VERB'), ('4.3', 'NUM'), ('%', 'NOUN'), ('to', 'PRT'), ('$', '.'), ('88', 'NUM'), ('billion', 'NUM'), ('*U*', 'X'), ('.', '.'), ('The', 'DET'), ('government', 'NOUN'), (\"'s\", 'PRT'), ('construction', 'NOUN'), ('spending', 'NOUN'), ('figures', 'NOUN'), ('contrast', 'NOUN'), ('with', 'ADP'), ('a', 'DET'), ('report', 'NOUN'), ('issued', 'VERB'), ('*', 'X'), ('earlier', 'ADV'), ('in', 'ADP'), ('the', 'DET'), ('week', 'NOUN'), ('by', 'ADP'), ('McGraw-Hill', 'NOUN'), ('Inc.', 'NOUN'), (\"'s\", 'PRT'), ('F.W.', 'NOUN'), ('Dodge', 'NOUN'), ('Group', 'NOUN'), ('.', '.'), ('But', 'CONJ'), ('for', 'ADP'), ('now', 'ADV'), (',', '.'), ('they', 'PRON'), (\"'re\", 'VERB'), ('looking', 'VERB'), ('forward', 'ADV'), ('to', 'PRT'), ('their', 'PRON'), ('winter', 'NOUN'), ('meeting', 'NOUN'), ('--', '.'), ('Boca', 'NOUN'), ('in', 'ADP'), ('February', 'NOUN'), ('.', '.'), ('He', 'PRON'), ('will', 'VERB'), ('be', 'VERB'), ('eligible', 'ADJ'), ('for', 'ADP'), ('an', 'DET'), ('annual', 'ADJ'), ('pension', 'NOUN'), ('of', 'ADP'), ('more', 'ADJ'), ('than', 'ADP'), ('$', '.'), ('244,000', 'NOUN'), ('*U*', 'X'), ('with', 'ADP'), ('certain', 'ADJ'), ('other', 'ADJ'), ('fringe', 'NOUN'), ('benefits', 'NOUN'), ('.', '.'), ('The', 'DET'), ('spokesman', 'NOUN'), ('said', 'VERB'), ('0', 'X'), ('it', 'PRON'), ('is', 'VERB'), ('the', 'DET'), ('first', 'ADJ'), ('early', 'ADJ'), ('retirement', 'NOUN'), ('plan', 'NOUN'), ('offered', 'VERB'), ('under', 'ADP'), ('its', 'PRON'), ('two-year', 'ADJ'), ('cost-control', 'NOUN'), ('strategy', 'NOUN'), ('.', '.'), ('But', 'CONJ'), ('other', 'ADJ'), ('people', 'NOUN'), ('do', 'VERB'), (\"n't\", 'ADV'), ('want', 'VERB'), ('*-1', 'X'), ('to', 'PRT'), ('lose', 'VERB'), ('the', 'DET'), ('bridges', 'NOUN'), (\"'\", 'PRT'), ('beautiful', 'ADJ'), (',', '.'), ('sometimes', 'ADV'), ('historic', 'ADJ'), (',', '.'), ('features', 'NOUN'), ('.', '.'), ('Sales', 'NOUN'), ('in', 'ADP'), ('stores', 'NOUN'), ('open', 'VERB'), ('more', 'ADV'), ('than', 'ADP'), ('one', 'NUM'), ('year', 'NOUN'), ('rose', 'VERB'), ('3', 'X'), ('%', 'NOUN'), ('to', 'PRT'), ('$', '.'), ('29.3', 'NOUN'), ('million', 'NUM'), ('*U*', 'X'), ('from', 'ADP'), ('$', '.'), ('28.4', 'NOUN'), ('million', 'NUM'), ('*U*', 'X'), ('.', '.'), ('*', 'X'), ('Depending', 'NOUN'), ('upon', 'ADP'), ('how', 'ADV'), ('many', 'ADJ'), ('warrants', 'NOUN'), ('and', 'CONJ'), ('options', 'NOUN'), ('*T*-2', 'X'), ('are', 'VERB'), ('exercised', 'VERB'), ('*-1', 'X'), ('prior', 'ADV'), ('to', 'PRT'), ('completion', 'NOUN'), ('of', 'ADP'), ('the', 'DET'), ('transaction', 'NOUN'), (',', '.'), ('Heritage', 'NOUN'), ('would', 'VERB'), ('issue', 'NOUN'), ('between', 'ADP'), ('1.8', 'NUM'), ('million', 'NUM'), ('and', 'CONJ'), ('2.35', 'NOUN'), ('million', 'NUM'), ('preferred', 'ADJ'), ('shares', 'NOUN'), (',', '.'), ('a', 'DET'), ('Heritage', 'NOUN'), ('spokesman', 'NOUN'), ('estimated', 'VERB'), ('0', 'X'), ('*T*-3', 'X'), ('.', '.'), ('United', 'NOUN'), ('Illuminating', 'NOUN'), ('is', 'VERB'), ('based', 'VERB'), ('*-13', 'X'), ('in', 'ADP'), ('New', 'NOUN'), ('Haven', 'NOUN'), (',', '.'), ('Conn.', 'NOUN'), (',', '.'), ('and', 'CONJ'), ('Northeast', 'NOUN'), ('is', 'VERB'), ('based', 'VERB'), ('*-14', 'X'), ('in', 'ADP'), ('Hartford', 'NOUN'), (',', '.'), ('Conn', 'NOUN'), ('.', '.'), ('With', 'ADP'), ('lipsticks', 'NOUN'), (',', '.'), ('liners', 'NOUN'), (',', '.'), ('lotions', 'NOUN'), ('and', 'CONJ'), ('creams', 'NOUN'), (',', '.'), ('There', 'DET'), ('are', 'VERB'), ('still', 'ADV'), ('beauty', 'NOUN'), ('plans', 'VERB'), ('left', 'VERB'), ('0', 'X'), ('*', 'X'), ('to', 'PRT'), ('tackle', 'NOUN'), ('*T*-1', 'X'), (':', '.'), ('But', 'CONJ'), ('as', 'ADP'), ('the', 'DET'), ('years', 'NOUN'), ('go', 'VERB'), ('by', 'ADP'), (',', '.'), ('it', 'PRON'), ('seems', 'VERB'), ('That', 'DET'), ('before', 'ADP'), ('I', 'PRON'), ('paint', 'NOUN'), (',', '.'), ('I', 'PRON'), ('should', 'VERB'), ('spackle', 'NOUN'), ('.', '.'), ('Los', 'NOUN'), ('Angeles', 'NOUN'), ('is', 'VERB'), ('a', 'DET'), ('sprawling', 'NOUN'), (',', '.'), ('balkanized', 'NOUN'), ('newspaper', 'NOUN'), ('market', 'NOUN'), (',', '.'), ('and', 'CONJ'), ('advertisers', 'NOUN'), ('seemed', 'VERB'), ('*-1', 'X'), ('to', 'PRT'), ('feel', 'VERB'), ('0', 'X'), ('they', 'PRON'), ('could', 'VERB'), ('buy', 'VERB'), ('space', 'NOUN'), ('in', 'ADP'), ('the', 'DET'), ('mammoth', 'NOUN'), ('Times', 'NOUN'), (',', '.'), ('then', 'ADV'), ('target', 'VERB'), ('a', 'DET'), ('particular', 'ADJ'), ('area', 'NOUN'), ('with', 'ADP'), ('one', 'NUM'), ('of', 'ADP'), ('the', 'DET'), ('regional', 'ADJ'), ('dailies', 'NOUN'), ('.', '.'), ('``', '.'), ('That', 'DET'), ('attracts', 'NOUN'), ('attention', 'NOUN'), ('...', '.'), ('Plans', 'NOUN'), ('*', 'X'), ('to', 'PRT'), ('do', 'VERB'), ('this', 'DET'), ('are', 'VERB'), ('due', 'ADJ'), ('*', 'X'), ('to', 'PRT'), ('be', 'VERB'), ('filed', 'VERB'), ('*-1', 'X'), ('in', 'ADP'), ('a', 'DET'), ('week', 'NOUN'), ('or', 'CONJ'), ('so', 'ADV'), ('.', '.'), ('She', 'PRON'), ('adds', 'VERB'), ('that', 'ADP'), ('legislation', 'NOUN'), ('curbing', 'NOUN'), ('it', 'PRON'), ('would', 'VERB'), ('be', 'VERB'), ('``', '.'), ('a', 'DET'), ('darned', 'NOUN'), ('good', 'ADJ'), ('idea', 'NOUN'), ('.', '.'), (\"''\", '.'), ('She', 'PRON'), ('says', 'VERB'), ('that', 'ADP'), ('because', 'ADP'), ('of', 'ADP'), ('Mrs.', 'NOUN'), ('Yeargin', 'NOUN'), ('she', 'PRON'), ('gave', 'VERB'), ('up', 'ADV'), ('ambitions', 'NOUN'), ('in', 'ADP'), ('architecture', 'NOUN'), ('and', 'CONJ'), ('is', 'VERB'), ('studying', 'VERB'), ('*-1', 'X'), ('to', 'PRT'), ('become', 'VERB'), ('a', 'DET'), ('teacher', 'NOUN'), ('.', '.'), ('And', 'CONJ'), ('several', 'ADJ'), ('new', 'ADJ'), ('funds', 'NOUN'), ('that', 'ADP'), ('*T*-44', 'X'), ('are', 'VERB'), (\"n't\", 'ADV'), ('even', 'ADV'), ('fully', 'ADV'), ('invested', 'VERB'), ('yet', 'ADV'), ('have', 'VERB'), ('jumped', 'VERB'), ('*-1', 'X'), ('to', 'PRT'), ('trade', 'NOUN'), ('at', 'ADP'), ('big', 'ADJ'), ('premiums', 'NOUN'), ('.', '.'), ('Why', 'ADV'), ('are', 'VERB'), ('we', 'PRON'), ('blacks', 'NOUN'), ('continually', 'ADV'), ('defined', 'NOUN'), ('*-1', 'X'), ('by', 'ADP'), ('our', 'PRON'), ('minority', 'NOUN'), ('and', 'CONJ'), ('the', 'DET'), ('lowest', 'ADJ'), ('common', 'ADJ'), ('denominator', 'NOUN'), ('.', '.'), ('Meanwhile', 'ADV'), (',', '.'), ('the', 'DET'), ('National', 'NOUN'), ('Association', 'NOUN'), ('of', 'ADP'), ('Purchasing', 'NOUN'), ('Management', 'NOUN'), ('said', 'VERB'), ('0', 'X'), ('its', 'PRON'), ('latest', 'ADJ'), ('survey', 'NOUN'), ('indicated', 'VERB'), ('that', 'ADP'), ('the', 'DET'), ('manufacturing', 'NOUN'), ('economy', 'NOUN'), ('contracted', 'VERB'), ('in', 'ADP'), ('October', 'NOUN'), ('for', 'ADP'), ('the', 'DET'), ('sixth', 'ADJ'), ('consecutive', 'ADJ'), ('month', 'NOUN'), ('.', '.'), ('Reed', 'NOUN'), ('is', 'VERB'), ('paying', 'VERB'), ('an', 'DET'), ('interim', 'ADJ'), ('dividend', 'NOUN'), ('of', 'ADP'), ('4.6', 'NUM'), ('pence', 'NOUN'), (',', '.'), ('up', 'ADV'), ('15', 'NUM'), ('%', 'NOUN'), ('from', 'ADP'), ('4', 'NUM'), ('pence', 'NOUN'), ('a', 'DET'), ('year', 'NOUN'), ('earlier', 'ADV'), ('.', '.'), ('The', 'DET'), ('Rockford', 'NOUN'), (',', '.'), ('Ill.', 'NOUN'), (',', '.'), ('maker', 'NOUN'), ('of', 'ADP'), ('fasteners', 'NOUN'), ('also', 'ADV'), ('said', 'VERB'), ('0', 'X'), ('it', 'PRON'), ('expects', 'VERB'), ('*-2', 'X'), ('to', 'PRT'), ('post', 'NOUN'), ('sales', 'NOUN'), ('in', 'ADP'), ('the', 'DET'), ('current', 'ADJ'), ('fiscal', 'ADJ'), ('year', 'NOUN'), ('that', 'ADP'), ('*T*-1', 'X'), ('are', 'VERB'), ('``', '.'), ('slightly', 'ADV'), ('above', 'ADP'), (\"''\", '.'), ('fiscal', 'ADJ'), ('1989', 'NUM'), ('sales', 'NOUN'), ('of', 'ADP'), ('$', '.'), ('155', 'NUM'), ('million', 'NUM'), ('*U*', 'X'), ('.', '.'), ('Auctions', 'NOUN'), ('held', 'VERB'), ('*', 'X'), ('in', 'ADP'), ('October', 'NOUN'), ('and', 'CONJ'), ('those', 'DET'), ('scheduled', 'VERB'), ('*', 'X'), ('for', 'ADP'), ('next', 'ADJ'), ('week', 'NOUN'), ('will', 'VERB'), ('raise', 'VERB'), ('a', 'DET'), ('total', 'ADJ'), ('of', 'ADP'), ('$', '.'), ('25.6', 'NOUN'), ('billion', 'NUM'), ('*U*', 'X'), ('.', '.'), ('But', 'CONJ'), ('the', 'DET'), ('former', 'ADJ'), ('U.S.', 'NOUN'), ('president', 'NOUN'), (\"'s\", 'PRT'), ('sixth', 'ADJ'), ('visit', 'NOUN'), ('to', 'PRT'), ('China', 'NOUN'), (',', '.'), ('during', 'ADP'), ('which', 'DET'), ('he', 'PRON'), ('spoke', 'NOUN'), ('at', 'ADP'), ('length', 'NOUN'), ('with', 'ADP'), ('Chinese', 'ADJ'), ('leaders', 'NOUN'), ('*T*-1', 'X'), (',', '.'), ('was', 'VERB'), ('nowhere', 'ADV'), ('near', 'ADP'), ('as', 'ADP'), ('successful', 'ADJ'), ('at', 'ADP'), ('*', 'X'), ('easing', 'VERB'), ('strains', 'NOUN'), ('that', 'ADP'), ('*T*-239', 'NOUN'), ('have', 'VERB'), ('recently', 'ADV'), ('afflicted', 'NOUN'), ('the', 'DET'), ('Sino-U.S.', 'ADJ'), ('relationship', 'NOUN'), ('.', '.'), ('Under', 'ADP'), ('the', 'DET'), ('offer', 'NOUN'), (',', '.'), ('shareholders', 'NOUN'), ('will', 'VERB'), ('receive', 'VERB'), ('one', 'NUM'), ('right', 'NOUN'), ('for', 'ADP'), ('each', 'DET'), ('105', 'NOUN'), ('common', 'ADJ'), ('shares', 'NOUN'), ('owned', 'VERB'), ('*', 'X'), ('.', '.'), ('At', 'ADP'), ('the', 'DET'), ('same', 'ADJ'), ('time', 'NOUN'), (',', '.'), ('you', 'PRON'), (\"'ll\", 'VERB'), ('give', 'VERB'), ('your', 'PRON'), ('Foster', 'NOUN'), ('Savings', 'NOUN'), ('Institution', 'NOUN'), ('the', 'DET'), ('gift', 'NOUN'), ('of', 'ADP'), ('hope', 'NOUN'), ('and', 'CONJ'), ('freedom', 'NOUN'), ('from', 'ADP'), ('the', 'DET'), ('federal', 'ADJ'), ('regulators', 'NOUN'), ('who', 'PRON'), ('*T*-206', 'NOUN'), ('want', 'VERB'), ('*-1', 'X'), ('to', 'PRT'), ('close', 'VERB'), ('its', 'PRON'), ('doors', 'NOUN'), ('--', '.'), ('for', 'ADP'), ('good', 'ADJ'), ('.', '.'), ('And', 'CONJ'), ('surprising', 'ADJ'), ('numbers', 'NOUN'), ('of', 'ADP'), ('small', 'ADJ'), ('investors', 'NOUN'), ('seem', 'VERB'), ('*-1', 'X'), ('to', 'PRT'), ('be', 'VERB'), ('adapting', 'NOUN'), ('to', 'PRT'), ('greater', 'ADJ'), ('stock', 'NOUN'), ('market', 'NOUN'), ('volatility', 'NOUN'), ('and', 'CONJ'), ('say', 'VERB'), ('0', 'X'), ('they', 'PRON'), ('can', 'VERB'), ('live', 'VERB'), ('with', 'ADP'), ('program', 'NOUN'), ('trading', 'NOUN'), ('.', '.'), ('A', 'DET'), ('major', 'ADJ'), ('concern', 'NOUN'), ('about', 'ADP'), ('the', 'DET'), ('current', 'ADJ'), ('plan', 'NOUN'), ('is', 'VERB'), ('whether', 'ADP'), ('the', 'DET'), ('new', 'ADJ'), ('center', 'NOUN'), ('can', 'VERB'), ('be', 'VERB'), ('built', 'VERB'), ('*-62', 'X'), ('in', 'ADP'), ('such', 'ADJ'), ('a', 'DET'), ('short', 'ADJ'), ('time', 'NOUN'), ('.', '.'), ('``', '.'), ('The', 'DET'), ('situation', 'NOUN'), ('is', 'VERB'), ('that', 'ADP'), ('the', 'DET'), ('bankruptcy', 'NOUN'), ('court', 'NOUN'), ('will', 'VERB'), ('get', 'VERB'), ('out', 'PRT'), ('of', 'ADP'), ('the', 'DET'), ('shipbuilding', 'NOUN'), ('business', 'NOUN'), ('.', '.'), ('Rep.', 'NOUN'), ('Dingell', 'NOUN'), ('of', 'ADP'), ('Michigan', 'NOUN'), ('plans', 'VERB'), ('*-3', 'X'), ('to', 'PRT'), ('unveil', 'VERB'), ('today', 'NOUN'), ('a', 'DET'), ('proposal', 'NOUN'), ('that', 'ADP'), ('*T*-1', 'X'), ('would', 'VERB'), ('break', 'VERB'), ('with', 'ADP'), ('Bush', 'NOUN'), (\"'s\", 'PRT'), ('clean-air', 'ADJ'), ('bill', 'NOUN'), ('on', 'ADP'), ('the', 'DET'), ('issue', 'NOUN'), ('of', 'ADP'), ('emissions', 'NOUN'), ('that', 'ADP'), ('*T*-2', 'X'), ('lead', 'VERB'), ('to', 'PRT'), ('acid', 'ADJ'), ('rain', 'NOUN'), ('.', '.'), ('``', '.'), ('You', 'PRON'), (\"'re\", 'VERB'), ('dead', 'ADJ'), ('in', 'ADP'), ('the', 'DET'), ('water', 'NOUN'), ('if', 'ADP'), ('you', 'PRON'), ('are', 'VERB'), (\"n't\", 'ADV'), ('segmenting', 'NOUN'), ('the', 'DET'), ('market', 'NOUN'), (',', '.'), (\"''\", '.'), ('says', 'VERB'), ('*T*-1', 'X'), ('Anne', 'NOUN'), ('Moore', 'NOUN'), (',', '.'), ('president', 'NOUN'), ('of', 'ADP'), ('Synergistics', 'NOUN'), ('Research', 'NOUN'), ('Corp.', 'NOUN'), (',', '.'), ('a', 'DET'), ('bank', 'NOUN'), ('consulting', 'NOUN'), ('firm', 'NOUN'), ('in', 'ADP'), ('Atlanta', 'NOUN'), ('.', '.'), ('The', 'DET'), ('question', 'NOUN'), ('now', 'ADV'), (':', '.'), ('Can', 'NOUN'), ('he', 'PRON'), ('act', 'VERB'), ('more', 'ADV'), ('like', 'ADP'), ('hard-charging', 'NOUN'), ('Teddy', 'NOUN'), ('Roosevelt', 'NOUN'), ('?', '.'), ('``', '.'), ('U.S.', 'NOUN'), ('investors', 'NOUN'), ('should', 'VERB'), ('have', 'VERB'), ('a', 'DET'), ('greater', 'ADJ'), ('opportunity', 'NOUN'), ('at', 'ADP'), ('direct', 'ADJ'), ('investment', 'NOUN'), (\"''\", '.'), ('in', 'ADP'), ('Japan', 'NOUN'), ('.', '.'), ('Hammacher', 'NOUN'), ('Schlemmer', 'NOUN'), ('&', 'CONJ'), ('Co.', 'NOUN'), ('offers', 'VERB'), ('a', 'DET'), ('fiber-optic', 'NOUN'), ('Christmas', 'NOUN'), ('tree', 'NOUN'), ('that', 'ADP'), ('*T*-1', 'X'), ('eliminates', 'VERB'), ('the', 'DET'), ('need', 'NOUN'), ('*', 'X'), ('to', 'PRT'), ('string', 'NOUN'), ('lights', 'NOUN'), ('.', '.'), ('Ralston', 'NOUN'), ('Purina', 'NOUN'), ('Co.', 'NOUN'), ('reported', 'VERB'), ('a', 'DET'), ('47', 'NUM'), ('%', 'NOUN'), ('decline', 'NOUN'), ('in', 'ADP'), ('fourth-quarter', 'NOUN'), ('earnings', 'NOUN'), (',', '.'), ('*', 'X'), ('reflecting', 'VERB'), ('restructuring', 'NOUN'), ('costs', 'NOUN'), ('as', 'ADP'), ('well', 'ADV'), ('as', 'ADP'), ('a', 'DET'), ('more', 'ADJ'), ('difficult', 'ADJ'), ('pet', 'NOUN'), ('food', 'NOUN'), ('market', 'NOUN'), ('.', '.'), ('He', 'PRON'), ('was', 'VERB'), ('previously', 'ADV'), ('president', 'NOUN'), ('of', 'ADP'), ('the', 'DET'), ('company', 'NOUN'), (\"'s\", 'PRT'), ('Eastern', 'NOUN'), ('Edison', 'NOUN'), ('Co.', 'NOUN'), ('unit', 'NOUN'), ('.', '.'), ('``', '.'), ('When', 'ADV'), ('you', 'PRON'), ('do', 'VERB'), ('that', 'ADP'), ('*T*-1', 'X'), (',', '.'), ('there', 'DET'), ('is', 'VERB'), ('not', 'ADV'), ('a', 'DET'), ('cut', 'VERB'), (',', '.'), ('but', 'CONJ'), ('there', 'DET'), ('is', 'VERB'), ('in', 'ADP'), ('fact', 'NOUN'), ('a', 'DET'), ('program', 'NOUN'), ('increase', 'NOUN'), ('of', 'ADP'), ('$', '.'), ('5', 'NUM'), ('million', 'NUM'), ('*U*', 'X'), (\"''\", '.'), ('each', 'DET'), ('for', 'ADP'), ('the', 'DET'), ('FTC', 'NOUN'), ('and', 'CONJ'), ('the', 'DET'), ('Justice', 'NOUN'), ('Department', 'NOUN'), (',', '.'), ('Rep.', 'NOUN'), ('Neal', 'NOUN'), ('Smith', 'NOUN'), ('-LRB-', '.'), ('D.', 'NOUN'), (',', '.'), ('Iowa', 'NOUN'), ('-RRB-', '.'), ('said', 'VERB'), ('0', 'X'), ('*T*-2', 'X'), ('during', 'ADP'), ('House', 'NOUN'), ('debate', 'NOUN'), ('.', '.'), ('``', '.'), ('In', 'ADP'), ('Moscow', 'NOUN'), (',', '.'), ('they', 'PRON'), ('kept', 'VERB'), ('*-5', 'X'), ('asking', 'VERB'), ('us', 'PRON'), ('things', 'NOUN'), ('like', 'ADP'), (',', '.'), ('`', '.'), ('Why', 'ADV'), ('do', 'VERB'), ('you', 'PRON'), ('make', 'VERB'), ('15', 'NUM'), ('different', 'ADJ'), ('corkscrews', 'NOUN'), (',', '.'), ('when', 'ADV'), ('all', 'DET'), ('0', 'X'), ('you', 'PRON'), ('need', 'VERB'), ('*T*-3', 'X'), ('is', 'VERB'), ('one', 'NUM'), ('good', 'ADJ'), ('one', 'NUM'), ('*T*-4', 'X'), ('*T*-2', 'X'), ('?', '.'), (\"'\", '.'), (\"''\", '.'), ('he', 'PRON'), ('says', 'VERB'), ('*T*-1', 'X'), ('.', '.'), ('Mr.', 'NOUN'), ('Spiegel', 'NOUN'), (\"'s\", 'PRT'), ('next', 'ADJ'), ('career', 'NOUN'), ('move', 'NOUN'), ('is', 'VERB'), ('a', 'DET'), ('subject', 'ADJ'), ('of', 'ADP'), ('speculation', 'NOUN'), ('on', 'ADP'), ('Wall', 'NOUN'), ('Street', 'NOUN'), ('.', '.'), ('That', 'DET'), ('has', 'VERB'), ('been', 'VERB'), ('particularly', 'ADV'), ('true', 'ADJ'), ('this', 'DET'), ('year', 'NOUN'), ('with', 'ADP'), ('many', 'ADJ'), ('companies', 'NOUN'), ('raising', 'VERB'), ('their', 'PRON'), ('payouts', 'NOUN'), ('more', 'ADV'), ('than', 'ADP'), ('10', 'NUM'), ('%', 'NOUN'), ('.', '.'), ('State', 'NOUN'), ('court', 'NOUN'), ('Judge', 'NOUN'), ('Richard', 'NOUN'), ('Curry', 'NOUN'), ('ordered', 'VERB'), ('Edison', 'NOUN'), ('*-1', 'X'), ('to', 'PRT'), ('make', 'VERB'), ('average', 'ADJ'), ('refunds', 'NOUN'), ('of', 'ADP'), ('about', 'ADP'), ('$', '.'), ('45', 'NUM'), ('to', 'PRT'), ('$', '.'), ('50', 'NUM'), ('*U*', 'X'), ('each', 'DET'), ('to', 'PRT'), ('Edison', 'NOUN'), ('customers', 'NOUN'), ('who', 'PRON'), ('*T*-18', 'X'), ('have', 'VERB'), ('received', 'VERB'), ('electric', 'ADJ'), ('service', 'NOUN'), ('since', 'ADP'), ('April', 'NOUN'), ('1986', 'NUM'), (',', '.'), ('including', 'VERB'), ('about', 'ADP'), ('two', 'NUM'), ('million', 'NUM'), ('customers', 'NOUN'), ('who', 'PRON'), ('*T*-19', 'X'), ('have', 'VERB'), ('moved', 'VERB'), ('during', 'ADP'), ('that', 'DET'), ('period', 'NOUN'), ('.', '.'), ('When', 'ADV'), ('Warren', 'NOUN'), ('Winiarski', 'NOUN'), (',', '.'), ('proprietor', 'NOUN'), ('of', 'ADP'), ('Stag', 'NOUN'), (\"'s\", 'PRT'), ('Leap', 'NOUN'), ('Wine', 'NOUN'), ('Cellars', 'NOUN'), ('in', 'ADP'), ('Napa', 'NOUN'), ('Valley', 'NOUN'), (',', '.'), ('announced', 'VERB'), ('a', 'DET'), ('$', '.'), ('75', 'NUM'), ('*U*', 'X'), ('price', 'NOUN'), ('tag', 'NOUN'), ('for', 'ADP'), ('his', 'PRON'), ('1985', 'NUM'), ('Cask', 'NOUN'), ('23', 'NUM'), ('Cabernet', 'NOUN'), ('this', 'DET'), ('fall', 'NOUN'), ('*T*-1', 'X'), (',', '.'), ('few', 'ADJ'), ('wine', 'NOUN'), ('shops', 'NOUN'), ('and', 'CONJ'), ('restaurants', 'NOUN'), ('around', 'ADP'), ('the', 'DET'), ('country', 'NOUN'), ('balked', 'VERB'), ('.', '.'), ('Without', 'ADP'), ('*-1', 'X'), ('admitting', 'VERB'), ('or', 'CONJ'), ('denying', 'VERB'), ('wrongdoing', 'NOUN'), (',', '.'), ('they', 'PRON'), ('consented', 'VERB'), ('to', 'PRT'), ('findings', 'NOUN'), ('that', 'ADP'), ('they', 'PRON'), ('had', 'VERB'), ('inaccurately', 'NOUN'), ('represented', 'VERB'), ('the', 'DET'), ('firm', 'NOUN'), (\"'s\", 'PRT'), ('net', 'ADJ'), ('capital', 'NOUN'), (',', '.'), ('maintained', 'VERB'), ('inaccurate', 'ADJ'), ('books', 'NOUN'), ('and', 'CONJ'), ('records', 'NOUN'), (',', '.'), ('and', 'CONJ'), ('made', 'VERB'), ('other', 'ADJ'), ('violations', 'NOUN'), ('.', '.'), ('``', '.'), ('I', 'PRON'), ('live', 'VERB'), ('in', 'ADP'), ('hopes', 'NOUN'), ('that', 'ADP'), ('the', 'DET'), ('ringers', 'NOUN'), ('themselves', 'PRON'), ('will', 'VERB'), ('be', 'VERB'), ('drawn', 'VERB'), ('*-139', 'NOUN'), ('into', 'ADP'), ('that', 'DET'), ('fuller', 'NOUN'), ('life', 'NOUN'), ('.', '.'), (\"''\", '.'), ('A', 'DET'), ('plan', 'NOUN'), ('*', 'X'), ('to', 'PRT'), ('bring', 'VERB'), ('the', 'DET'), ('stock', 'NOUN'), ('to', 'PRT'), ('market', 'NOUN'), ('before', 'ADP'), ('year', 'NOUN'), ('end', 'NOUN'), ('apparently', 'ADV'), ('was', 'VERB'), ('upset', 'VERB'), ('*-1', 'X'), ('by', 'ADP'), ('the', 'DET'), ('recent', 'ADJ'), ('weakness', 'NOUN'), ('of', 'ADP'), ('Frankfurt', 'NOUN'), ('share', 'NOUN'), ('prices', 'NOUN'), ('.', '.'), ('One', 'NUM'), ('big', 'ADJ'), ('reason', 'NOUN'), (':', '.'), ('thin', 'ADJ'), ('margins', 'NOUN'), ('.', '.'), ('That', 'DET'), ('way', 'NOUN'), ('investors', 'NOUN'), ('can', 'VERB'), ('essentially', 'ADV'), ('buy', 'VERB'), ('the', 'DET'), ('funds', 'NOUN'), ('without', 'ADP'), ('*-1', 'X'), ('paying', 'VERB'), ('the', 'DET'), ('premium', 'NOUN'), ('.', '.'), ('But', 'CONJ'), ('the', 'DET'), ('legislation', 'NOUN'), ('reflected', 'VERB'), ('a', 'DET'), ('compromise', 'NOUN'), ('agreed', 'VERB'), ('to', 'PRT'), ('*', 'X'), ('on', 'ADP'), ('Tuesday', 'NOUN'), ('by', 'ADP'), ('President', 'NOUN'), ('Bush', 'NOUN'), ('and', 'CONJ'), ('Democratic', 'ADJ'), ('leaders', 'NOUN'), ('in', 'ADP'), ('Congress', 'NOUN'), (',', '.'), ('after', 'ADP'), ('congressional', 'ADJ'), ('Republicans', 'NOUN'), ('urged', 'VERB'), ('the', 'DET'), ('White', 'NOUN'), ('House', 'NOUN'), ('*-2', 'X'), ('to', 'PRT'), ('bend', 'NOUN'), ('a', 'DET'), ('bit', 'NOUN'), ('from', 'ADP'), ('its', 'PRON'), ('previous', 'ADJ'), ('resistance', 'NOUN'), ('*', 'X'), ('to', 'PRT'), ('compromise', 'NOUN'), ('.', '.'), ('And', 'CONJ'), ('many', 'ADJ'), ('emerging', 'NOUN'), ('markets', 'NOUN'), ('have', 'VERB'), ('outpaced', 'NOUN'), ('more', 'ADV'), ('mature', 'VERB'), ('markets', 'NOUN'), (',', '.'), ('such', 'ADJ'), ('as', 'ADP'), ('the', 'DET'), ('U.S.', 'NOUN'), ('and', 'CONJ'), ('Japan', 'NOUN'), ('.', '.'), ('Under', 'ADP'), ('the', 'DET'), ('plan', 'NOUN'), (',', '.'), ('unsecured', 'ADJ'), ('creditors', 'NOUN'), (',', '.'), ('who', 'PRON'), ('*T*-3', 'X'), ('are', 'VERB'), ('owed', 'VERB'), ('*-1', 'X'), ('about', 'ADP'), ('$', '.'), ('430', 'NOUN'), ('million', 'NUM'), ('*U*', 'X'), (',', '.'), ('would', 'VERB'), ('receive', 'VERB'), ('about', 'ADP'), ('$', '.'), ('92', 'NOUN'), ('million', 'NUM'), ('*U*', 'X'), (',', '.'), ('or', 'CONJ'), ('21', 'NUM'), ('cents', 'NOUN'), ('for', 'ADP'), ('each', 'DET'), ('dollar', 'NOUN'), ('0', 'X'), ('they', 'PRON'), ('are', 'VERB'), ('owed', 'VERB'), ('*-2', 'X'), ('*T*-4', 'X'), ('.', '.'), ('The', 'DET'), ('patent', 'NOUN'), ('for', 'ADP'), ('Interleukin-3', 'NOUN'), ('covers', 'VERB'), ('materials', 'NOUN'), ('and', 'CONJ'), ('methods', 'NOUN'), ('used', 'VERB'), ('*', 'X'), ('*', 'X'), ('to', 'PRT'), ('make', 'VERB'), ('the', 'DET'), ('human', 'ADJ'), ('blood', 'NOUN'), ('cell', 'NOUN'), ('growth', 'NOUN'), ('factor', 'NOUN'), ('via', 'ADP'), ('recombinant', 'NOUN'), ('DNA', 'NOUN'), ('technology', 'NOUN'), ('.', '.'), ('J.L.', 'NOUN'), ('Henry', 'NOUN'), ('has', 'VERB'), (\"n't\", 'ADV'), ('any', 'DET'), ('Miami', 'NOUN'), ('telephone', 'NOUN'), ('listing', 'NOUN'), (',', '.'), ('an', 'DET'), ('operator', 'NOUN'), ('said', 'VERB'), ('0', 'X'), ('*T*-1', 'X'), ('.', '.'), ('It', 'PRON'), ('should', 'VERB'), ('be', 'VERB'), ('constantly', 'ADV'), ('stressed', 'VERB'), ('that', 'ADP'), ('Poland', 'NOUN'), (\"'s\", 'PRT'), ('farmers', 'NOUN'), ('mostly', 'ADV'), ('need', 'VERB'), ('a', 'DET'), ('real', 'ADJ'), ('market', 'NOUN'), ('for', 'ADP'), ('their', 'PRON'), ('products', 'NOUN'), ('.', '.'), ('*-1', 'X'), ('Encouraged', 'NOUN'), ('*-2', 'X'), ('by', 'ADP'), ('Mrs.', 'NOUN'), ('Ward', 'NOUN'), (',', '.'), ('Mrs.', 'NOUN'), ('Yeargin', 'NOUN'), ('taught', 'VERB'), ('honor', 'VERB'), ('students', 'NOUN'), ('in', 'ADP'), ('the', 'DET'), ('state', 'NOUN'), ('``', '.'), ('teacher', 'NOUN'), ('cadet', 'NOUN'), (\"''\", '.'), ('program', 'NOUN'), (',', '.'), ('a', 'DET'), ('reform', 'NOUN'), ('creation', 'NOUN'), ('designed', 'VERB'), ('*', 'X'), ('*-3', 'X'), ('to', 'PRT'), ('encourage', 'VERB'), ('good', 'ADJ'), ('students', 'NOUN'), ('to', 'PRT'), ('consider', 'VERB'), ('teaching', 'NOUN'), ('as', 'ADP'), ('a', 'DET'), ('career', 'NOUN'), ('.', '.'), ('There', 'DET'), ('is', 'VERB'), ('also', 'ADV'), ('speculation', 'NOUN'), ('that', 'ADP'), ('Mr.', 'NOUN'), ('Newhouse', 'NOUN'), ('could', 'VERB'), ('bring', 'VERB'), ('in', 'ADP'), ('a', 'DET'), ('powerhouse', 'NOUN'), ('businessman', 'NOUN'), ('or', 'CONJ'), ('another', 'DET'), ('Newhouse', 'NOUN'), ('family', 'NOUN'), ('member', 'NOUN'), ('0', 'X'), ('*T*-1', 'X'), ('to', 'PRT'), ('run', 'VERB'), ('the', 'DET'), ('business', 'NOUN'), ('side', 'NOUN'), (',', '.'), ('in', 'ADP'), ('combination', 'NOUN'), ('with', 'ADP'), ('a', 'DET'), ('publishing', 'NOUN'), ('executive', 'NOUN'), ('like', 'ADP'), ('Robert', 'NOUN'), ('Gottlieb', 'NOUN'), (',', '.'), ('who', 'PRON'), ('*T*-38', 'X'), ('left', 'VERB'), ('Random', 'NOUN'), ('House', 'NOUN'), (\"'s\", 'PRT'), ('Alfred', 'NOUN'), ('A.', 'NOUN'), ('Knopf', 'NOUN'), ('*-2', 'X'), ('to', 'PRT'), ('run', 'VERB'), ('the', 'DET'), ('New', 'NOUN'), ('Yorker', 'NOUN'), (',', '.'), ('also', 'ADV'), ('owned', 'VERB'), ('*', 'X'), ('by', 'ADP'), ('the', 'DET'), ('Newhouse', 'NOUN'), ('family', 'NOUN'), ('.', '.'), ('However', 'ADV'), (',', '.'), ('neither', 'DET'), ('Mr.', 'NOUN'), ('Baum', 'NOUN'), ('nor', 'CONJ'), ('Mr.', 'NOUN'), ('Harper', 'NOUN'), ('has', 'VERB'), ('much', 'ADV'), ('international', 'ADJ'), ('experience', 'NOUN'), ('.', '.'), ('The', 'DET'), ('surge', 'NOUN'), ('brings', 'VERB'), ('to', 'PRT'), ('nearly', 'ADV'), ('50', 'NUM'), ('the', 'DET'), ('number', 'NOUN'), ('of', 'ADP'), ('country', 'NOUN'), ('funds', 'NOUN'), ('that', 'ADP'), ('*T*-39', 'X'), ('are', 'VERB'), ('*RNR*-1', 'X'), ('or', 'CONJ'), ('soon', 'ADV'), ('will', 'VERB'), ('be', 'VERB'), ('*RNR*-1', 'X'), ('listed', 'VERB'), ('*-2', 'X'), ('in', 'ADP'), ('New', 'NOUN'), ('York', 'NOUN'), ('or', 'CONJ'), ('London', 'NOUN'), ('.', '.'), ('Nevertheless', 'ADV'), (',', '.'), ('both', 'DET'), ('Mr.', 'NOUN'), ('Guffey', 'NOUN'), ('and', 'CONJ'), ('Mr.', 'NOUN'), ('Black', 'NOUN'), ('say', 'VERB'), ('0', 'X'), ('the', 'DET'), ('slowdown', 'NOUN'), ('so', 'ADV'), ('far', 'ADV'), ('is', 'VERB'), ('no', 'DET'), ('cause', 'NOUN'), ('for', 'ADP'), ('concern', 'NOUN'), ('.', '.'), ('The', 'DET'), ('court', 'NOUN'), ('rejected', 'VERB'), ('strict', 'ADJ'), ('liability', 'NOUN'), ('for', 'ADP'), ('prescription', 'NOUN'), ('drugs', 'NOUN'), (',', '.'), ('*-1', 'X'), ('citing', 'VERB'), ('the', 'DET'), ('huge', 'ADJ'), (',', '.'), ('hidden', 'NOUN'), ('social', 'ADJ'), ('costs', 'NOUN'), ('.', '.'), ('Standard', 'NOUN'), ('&', 'CONJ'), ('Poor', 'NOUN'), (\"'s\", 'PRT'), ('Corp.', 'NOUN'), ('says', 'VERB'), ('0', 'X'), ('First', 'NOUN'), ('Boston', 'NOUN'), (',', '.'), ('Shearson', 'NOUN'), ('and', 'CONJ'), ('Drexel', 'NOUN'), ('Burnham', 'NOUN'), ('Lambert', 'NOUN'), ('Inc.', 'NOUN'), (',', '.'), ('in', 'ADP'), ('particular', 'ADJ'), (',', '.'), ('are', 'VERB'), ('likely', 'ADJ'), ('*-1', 'X'), ('to', 'PRT'), ('have', 'VERB'), ('difficulty', 'NOUN'), ('*-2', 'X'), ('shoring', 'NOUN'), ('up', 'PRT'), ('their', 'PRON'), ('credit', 'NOUN'), ('standing', 'NOUN'), ('in', 'ADP'), ('months', 'NOUN'), ('ahead', 'ADV'), ('.', '.'), ('Middlesex', 'NOUN'), ('Water', 'NOUN'), ('Co.', 'NOUN'), (',', '.'), ('offering', 'NOUN'), ('of', 'ADP'), ('150,000', 'NOUN'), ('shares', 'NOUN'), ('of', 'ADP'), ('common', 'ADJ'), ('stock', 'NOUN'), (',', '.'), ('via', 'ADP'), ('Legg', 'NOUN'), ('Mason', 'NOUN'), ('Wood', 'NOUN'), ('Walker', 'NOUN'), ('Inc.', 'NOUN'), ('and', 'CONJ'), ('Howard', 'NOUN'), (',', '.'), ('Weil', 'NOUN'), (',', '.'), ('Labouisse', 'NOUN'), (',', '.'), ('Friedrichs', 'NOUN'), ('Inc', 'NOUN'), ('.', '.'), ('But', 'CONJ'), ('its', 'PRON'), ('purchases', 'NOUN'), ('apparently', 'ADV'), ('were', 'VERB'), ('delayed', 'NOUN'), ('*-1', 'X'), ('by', 'ADP'), ('a', 'DET'), ('reorganization', 'NOUN'), ('of', 'ADP'), ('its', 'PRON'), ('agricultural', 'ADJ'), ('bureaucracy', 'NOUN'), ('as', 'ADP'), ('well', 'ADV'), ('as', 'ADP'), ('budget', 'NOUN'), ('problems', 'NOUN'), ('.', '.'), ('Federal', 'NOUN'), ('judges', 'NOUN'), ('make', 'VERB'), ('$', '.'), ('89,500', 'NOUN'), ('*U*', 'X'), ('annually', 'ADV'), (';', '.'), ('in', 'ADP'), ('February', 'NOUN'), (',', '.'), ('Congress', 'NOUN'), ('rejected', 'VERB'), ('a', 'DET'), ('bill', 'NOUN'), ('that', 'ADP'), ('*T*-1', 'X'), ('would', 'VERB'), ('have', 'VERB'), ('increased', 'VERB'), ('their', 'PRON'), ('pay', 'VERB'), ('by', 'ADP'), ('50', 'NUM'), ('%', 'NOUN'), ('.', '.'), ('Mr.', 'NOUN'), ('Sonnett', 'NOUN'), ('said', 'VERB'), ('0', 'X'), ('there', 'DET'), ('also', 'ADV'), ('may', 'VERB'), ('be', 'VERB'), ('other', 'ADJ'), ('circumstances', 'NOUN'), ('under', 'ADP'), ('which', 'DET'), ('individuals', 'NOUN'), ('would', 'VERB'), (\"n't\", 'ADV'), ('want', 'VERB'), ('the', 'DET'), ('government', 'NOUN'), ('to', 'PRT'), ('know', 'VERB'), ('0', 'X'), ('they', 'PRON'), ('had', 'VERB'), ('retained', 'VERB'), ('criminal', 'ADJ'), ('defense', 'NOUN'), ('lawyers', 'NOUN'), ('*T*-1', 'X'), ('.', '.'), ('So', 'ADV'), ('far', 'ADV'), (',', '.'), ('Mrs.', 'NOUN'), ('Hills', 'NOUN'), ('has', 'VERB'), (\"n't\", 'ADV'), ('deemed', 'VERB'), ('any', 'DET'), ('cases', 'NOUN'), ('bad', 'ADJ'), ('enough', 'ADJ'), ('*-1', 'X'), ('to', 'PRT'), ('merit', 'NOUN'), ('an', 'DET'), ('accelerated', 'ADJ'), ('investigation', 'NOUN'), ('under', 'ADP'), ('the', 'DET'), ('so-called', 'ADJ'), ('special', 'ADJ'), ('301', 'NOUN'), ('provision', 'NOUN'), ('of', 'ADP'), ('the', 'DET'), ('act', 'NOUN'), ('.', '.'), ('Roederer', 'NOUN'), ('Cristal', 'NOUN'), ('at', 'ADP'), ('$', '.'), ('90', 'NUM'), ('*U*', 'X'), ('a', 'DET'), ('bottle', 'NOUN'), ('sells', 'VERB'), ('out', 'PRT'), ('around', 'ADP'), ('the', 'DET'), ('country', 'NOUN'), ('and', 'CONJ'), ('Taittinger', 'NOUN'), (\"'s\", 'PRT'), ('Comtes', 'NOUN'), ('de', 'ADP'), ('Champagne', 'NOUN'), ('Blanc', 'NOUN'), ('de', 'ADP'), ('Blancs', 'NOUN'), ('is', 'VERB'), ('encroaching', 'NOUN'), ('upon', 'ADP'), ('that', 'DET'), ('level', 'NOUN'), ('.', '.'), ('Nearby', 'NOUN'), ('cities', 'NOUN'), ('such', 'ADJ'), ('as', 'ADP'), ('Pasadena', 'NOUN'), ('and', 'CONJ'), ('Long', 'ADJ'), ('Beach', 'NOUN'), ('also', 'ADV'), ('have', 'VERB'), ('large', 'ADJ'), ('dailies', 'NOUN'), ('.', '.'), ('They', 'PRON'), ('are', 'VERB'), ('keeping', 'VERB'), ('a', 'DET'), ('close', 'ADJ'), ('watch', 'NOUN'), ('on', 'ADP'), ('the', 'DET'), ('yield', 'NOUN'), ('on', 'ADP'), ('the', 'DET'), ('S&P', 'NOUN'), ('500', 'NUM'), ('.', '.'), ('The', 'DET'), ('Tokyo', 'NOUN'), ('Stock', 'NOUN'), ('Price', 'NOUN'), ('Index', 'NOUN'), ('-LRB-', '.'), ('Topix', 'NOUN'), ('-RRB-', '.'), ('of', 'ADP'), ('all', 'DET'), ('issues', 'NOUN'), ('listed', 'VERB'), ('*', 'X'), ('in', 'ADP'), ('the', 'DET'), ('First', 'NOUN'), ('Section', 'NOUN'), (',', '.'), ('which', 'DET'), ('*T*-1', 'X'), ('gained', 'VERB'), ('16.05', 'NOUN'), ('points', 'NOUN'), ('Tuesday', 'NOUN'), (',', '.'), ('was', 'VERB'), ('down', 'ADV'), ('1.46', 'NOUN'), ('points', 'NOUN'), (',', '.'), ('or', 'CONJ'), ('0.05', 'NOUN'), ('%', 'NOUN'), (',', '.'), ('at', 'ADP'), ('2691.19', 'NOUN'), ('.', '.'), ('Mr.', 'NOUN'), ('Ross', 'NOUN'), ('said', 'VERB'), ('0', 'X'), ('he', 'PRON'), ('met', 'VERB'), ('with', 'ADP'), ('officials', 'NOUN'), ('of', 'ADP'), ('the', 'DET'), ('IRS', 'NOUN'), ('and', 'CONJ'), ('the', 'DET'), ('Justice', 'NOUN'), ('Department', 'NOUN'), (',', '.'), ('which', 'DET'), ('*T*-133', 'NOUN'), ('would', 'VERB'), ('bring', 'VERB'), ('any', 'DET'), ('enforcement', 'NOUN'), ('actions', 'NOUN'), ('against', 'ADP'), ('taxpayers', 'NOUN'), (',', '.'), ('*-1', 'X'), ('to', 'PRT'), ('discuss', 'VERB'), ('the', 'DET'), ('issue', 'NOUN'), ('last', 'ADJ'), ('May', 'NOUN'), ('.', '.'), ('What', 'PRON'), ('she', 'PRON'), ('did', 'VERB'), ('*T*-97', 'NOUN'), ('was', 'VERB'), ('like', 'ADP'), ('*', 'X'), ('taking', 'VERB'), ('the', 'DET'), ('law', 'NOUN'), ('into', 'ADP'), ('your', 'PRON'), ('own', 'ADJ'), ('hands', 'NOUN'), ('.', '.'), (\"''\", '.'), ('``', '.'), ('We', 'PRON'), ('do', 'VERB'), (\"n't\", 'ADV'), ('spend', 'VERB'), ('much', 'ADV'), ('on', 'ADP'), ('print', 'VERB'), ('advertising', 'VERB'), (',', '.'), (\"''\", '.'), ('she', 'PRON'), ('says', 'VERB'), ('*T*-1', 'X'), ('.', '.'), ('TV', 'NOUN'), (':', '.'), ('The', 'DET'), ('figure', 'NOUN'), ('is', 'VERB'), ('currently', 'ADV'), ('about', 'ADP'), ('3.3', 'NUM'), ('%', 'NOUN'), (',', '.'), ('up', 'ADV'), ('from', 'ADP'), ('3.2', 'NUM'), ('%', 'NOUN'), ('before', 'ADP'), ('the', 'DET'), ('recent', 'ADJ'), ('market', 'NOUN'), ('slide', 'NOUN'), ('.', '.'), ('The', 'DET'), ('sad', 'NOUN'), ('reality', 'NOUN'), ('is', 'VERB'), ('that', 'ADP'), ('the', 'DET'), ('retail', 'ADJ'), ('investor', 'NOUN'), ('continues', 'VERB'), ('*-1', 'X'), ('to', 'PRT'), ('pursue', 'VERB'), ('stellar', 'ADJ'), ('performers', 'NOUN'), ('first', 'ADJ'), (',', '.'), ('while', 'ADP'), ('*-2', 'X'), ('leaving', 'VERB'), ('institutions', 'NOUN'), ('to', 'PRT'), ('grapple', 'NOUN'), ('with', 'ADP'), ('basis', 'NOUN'), ('points', 'NOUN'), ('of', 'ADP'), ('performance', 'NOUN'), ('on', 'ADP'), ('large', 'ADJ'), ('sums', 'NOUN'), ('of', 'ADP'), ('money', 'NOUN'), ('quarter', 'NOUN'), ('by', 'ADP'), ('quarter', 'NOUN'), ('*PPA*-3', 'X'), ('.', '.'), ('Why', 'ADV'), ('does', 'VERB'), ('this', 'DET'), ('large', 'ADJ'), ('hypothetical', 'NOUN'), ('seller', 'NOUN'), ('trade', 'NOUN'), ('in', 'ADP'), ('Chicago', 'NOUN'), ('instead', 'ADV'), ('of', 'ADP'), ('New', 'NOUN'), ('York', 'NOUN'), ('*T*-1', 'X'), ('?', '.'), ('Campbell', 'NOUN'), ('said', 'VERB'), ('0', 'X'), ('Mr.', 'NOUN'), ('McGovern', 'NOUN'), ('had', 'VERB'), ('withdrawn', 'VERB'), ('his', 'PRON'), ('name', 'NOUN'), ('as', 'ADP'), ('a', 'DET'), ('candidate', 'NOUN'), ('for', 'ADP'), ('re-election', 'NOUN'), ('as', 'ADP'), ('a', 'DET'), ('director', 'NOUN'), ('at', 'ADP'), ('the', 'DET'), ('annual', 'ADJ'), ('shareholder', 'NOUN'), ('meeting', 'NOUN'), (',', '.'), ('scheduled', 'VERB'), ('*', 'X'), ('for', 'ADP'), ('Nov.', 'NOUN'), ('17', 'NUM'), ('.', '.'), ('Program', 'NOUN'), ('traders', 'NOUN'), (\"'\", 'PRT'), ('``', '.'), ('power', 'NOUN'), ('*', 'X'), ('to', 'PRT'), ('create', 'VERB'), ('total', 'ADJ'), ('panic', 'NOUN'), ('is', 'VERB'), ('so', 'ADV'), ('great', 'ADJ'), ('that', 'ADP'), ('they', 'PRON'), ('ca', 'VERB'), (\"n't\", 'ADV'), ('be', 'VERB'), ('allowed', 'VERB'), ('*-1', 'X'), ('to', 'PRT'), ('have', 'VERB'), ('their', 'PRON'), ('way', 'NOUN'), (',', '.'), (\"''\", '.'), ('says', 'VERB'), ('0', 'X'), ('*T*-2', 'X'), ('Rep.', 'NOUN'), ('Edward', 'NOUN'), ('Markey', 'NOUN'), (',', '.'), ('a', 'DET'), ('Massachusetts', 'NOUN'), ('Democrat', 'NOUN'), ('.', '.'), ('The', 'DET'), ('governor', 'NOUN'), ('could', 'VERB'), (\"n't\", 'ADV'), ('make', 'VERB'), ('it', 'PRON'), (',', '.'), ('so', 'ADV'), ('the', 'DET'), ('lieutenant', 'NOUN'), ('governor', 'NOUN'), ('welcomed', 'VERB'), ('the', 'DET'), ('special', 'ADJ'), ('guests', 'NOUN'), ('.', '.'), ('Wedtech', 'NOUN'), (\"'s\", 'PRT'), ('scammers', 'NOUN'), ('simply', 'ADV'), ('bribed', 'VERB'), ('them', 'PRON'), ('to', 'PRT'), ('shut', 'VERB'), ('up', 'ADV'), ('.', '.'), ('Mr.', 'NOUN'), ('Stronach', 'NOUN'), (',', '.'), ('founder', 'NOUN'), ('and', 'CONJ'), ('controlling', 'VERB'), ('shareholder', 'NOUN'), ('of', 'ADP'), ('Magna', 'NOUN'), (',', '.'), ('resigned', 'VERB'), ('as', 'ADP'), ('chief', 'NOUN'), ('executive', 'NOUN'), ('officer', 'NOUN'), ('last', 'ADJ'), ('year', 'NOUN'), ('*-1', 'X'), ('to', 'PRT'), ('seek', 'VERB'), (',', '.'), ('unsuccessfully', 'ADV'), (',', '.'), ('a', 'DET'), ('seat', 'NOUN'), ('in', 'ADP'), ('Canada', 'NOUN'), (\"'s\", 'PRT'), ('Parliament', 'NOUN'), ('.', '.'), ('The', 'DET'), ('company', 'NOUN'), ('plugged', 'NOUN'), ('itself', 'PRON'), ('right', 'NOUN'), ('into', 'ADP'), ('Carter', 'NOUN'), ('campaign', 'NOUN'), ('rhetoric', 'NOUN'), ('about', 'ADP'), ('*', 'X'), ('rebuilding', 'NOUN'), ('the', 'DET'), ('South', 'NOUN'), ('Bronx', 'NOUN'), ('and', 'CONJ'), ('kept', 'VERB'), ('*-1', 'X'), ('using', 'VERB'), ('the', 'DET'), ('minority', 'NOUN'), ('--', '.'), ('South', 'NOUN'), ('Bronx', 'NOUN'), ('angle', 'NOUN'), ('through', 'ADP'), ('the', 'DET'), ('Reagan', 'NOUN'), (\"'80s\", 'NOUN'), ('.', '.'), ('Sony', 'NOUN'), (\"'s\", 'PRT'), ('planned', 'VERB'), ('acquisition', 'NOUN'), ('of', 'ADP'), ('Guber\\\\/Peters', 'NOUN'), ('Entertainment', 'NOUN'), ('Co.', 'NOUN'), ('for', 'ADP'), ('$', '.'), ('200', 'NUM'), ('million', 'NUM'), ('*U*', 'X'), ('is', 'VERB'), ('scheduled', 'VERB'), ('*-1', 'X'), ('to', 'PRT'), ('close', 'VERB'), ('Monday', 'NOUN'), ('.', '.'), ('Its', 'PRON'), ('net', 'ADJ'), ('income', 'NOUN'), ('for', 'ADP'), ('the', 'DET'), ('September', 'NOUN'), ('quarter', 'NOUN'), ('rose', 'VERB'), ('about', 'ADP'), ('41', 'NUM'), ('%', 'NOUN'), ('from', 'ADP'), ('a', 'DET'), ('year', 'NOUN'), ('ago', 'ADP'), ('.', '.'), ('Stephen', 'NOUN'), ('Salmore', 'NOUN'), (',', '.'), ('a', 'DET'), ('political', 'ADJ'), ('scientist', 'NOUN'), ('at', 'ADP'), ('New', 'NOUN'), ('Jersey', 'NOUN'), (\"'s\", 'PRT'), ('Eagleton', 'NOUN'), ('Institute', 'NOUN'), (',', '.'), ('says', 'VERB'), ('0', 'X'), ('it', 'PRON'), (\"'s\", 'VERB'), ('another', 'DET'), ('example', 'NOUN'), ('of', 'ADP'), ('an', 'DET'), ('ad', 'NOUN'), ('that', 'ADP'), ('*T*-1', 'X'), (\"'s\", 'PRT'), ('true', 'ADJ'), ('but', 'CONJ'), ('not', 'ADV'), ('fully', 'ADV'), ('accurate', 'ADJ'), ('.', '.'), ('J.P.', 'NOUN'), ('Bolduc', 'NOUN'), (',', '.'), ('vice', 'NOUN'), ('chairman', 'NOUN'), ('of', 'ADP'), ('W.R.', 'NOUN'), ('Grace', 'NOUN'), ('&', 'CONJ'), ('Co.', 'NOUN'), (',', '.'), ('which', 'DET'), ('*T*-10', 'X'), ('holds', 'VERB'), ('a', 'DET'), ('83.4', 'NOUN'), ('%', 'NOUN'), ('interest', 'NOUN'), ('in', 'ADP'), ('this', 'DET'), ('energy-services', 'NOUN'), ('company', 'NOUN'), (',', '.'), ('was', 'VERB'), ('elected', 'VERB'), ('*-10', 'X'), ('a', 'DET'), ('director', 'NOUN'), ('.', '.'), ('``', '.'), ('I', 'PRON'), ('deserve', 'VERB'), ('something', 'NOUN'), ('for', 'ADP'), ('my', 'PRON'), ('loyalty', 'NOUN'), (',', '.'), (\"''\", '.'), ('she', 'PRON'), ('says', 'VERB'), ('*T*-1', 'X'), ('.', '.'), ('American', 'NOUN'), ('Express', 'NOUN'), ('Co.', 'NOUN'), ('and', 'CONJ'), ('General', 'NOUN'), ('Motors', 'NOUN'), ('Corp.', 'NOUN'), (\"'s\", 'PRT'), ('beleaguered', 'NOUN'), ('Buick', 'NOUN'), ('division', 'NOUN'), ('are', 'VERB'), ('joining', 'VERB'), ('forces', 'VERB'), ('in', 'ADP'), ('a', 'DET'), ('promotion', 'NOUN'), ('aimed', 'VERB'), ('*', 'X'), ('at', 'ADP'), ('*', 'X'), ('boosting', 'NOUN'), ('Buick', 'NOUN'), (\"'s\", 'PRT'), ('sales', 'NOUN'), ('while', 'ADP'), ('*', 'X'), ('encouraging', 'VERB'), ('broader', 'ADJ'), ('use', 'NOUN'), ('of', 'ADP'), ('the', 'DET'), ('American', 'ADJ'), ('Express', 'NOUN'), ('card', 'NOUN'), ('.', '.'), ('Bush', 'NOUN'), ('unveiled', 'VERB'), ('a', 'DET'), ('package', 'NOUN'), ('of', 'ADP'), ('trade', 'NOUN'), ('initiatives', 'NOUN'), ('0', 'X'), ('*T*-1', 'X'), ('to', 'PRT'), ('help', 'VERB'), ('*-2', 'X'), ('establish', 'VERB'), ('``', '.'), ('economic', 'ADJ'), ('alternatives', 'NOUN'), ('to', 'PRT'), ('drug', 'NOUN'), ('trafficking', 'NOUN'), (\"''\", '.'), ('in', 'ADP'), ('the', 'DET'), ('Andean', 'NOUN'), ('nations', 'NOUN'), ('of', 'ADP'), ('South', 'NOUN'), ('America', 'NOUN'), ('.', '.'), ('The', 'DET'), ('new', 'ADJ'), ('ad', 'NOUN'), ('plan', 'NOUN'), ('from', 'ADP'), ('Newsweek', 'NOUN'), (',', '.'), ('a', 'DET'), ('unit', 'NOUN'), ('of', 'ADP'), ('the', 'DET'), ('Washington', 'NOUN'), ('Post', 'NOUN'), ('Co.', 'NOUN'), (',', '.'), ('is', 'VERB'), ('the', 'DET'), ('second', 'ADJ'), ('incentive', 'NOUN'), ('plan', 'NOUN'), ('0', 'X'), ('the', 'DET'), ('magazine', 'NOUN'), ('has', 'VERB'), ('offered', 'VERB'), ('advertisers', 'NOUN'), ('*T*-1', 'X'), ('in', 'ADP'), ('three', 'NUM'), ('years', 'NOUN'), ('.', '.'), ('Since', 'ADP'), ('October', 'NOUN'), (\"'s\", 'PRT'), ('minicrash', 'NOUN'), (',', '.'), ('Wall', 'NOUN'), ('Street', 'NOUN'), ('has', 'VERB'), ('been', 'VERB'), ('shaken', 'NOUN'), ('*-69', 'X'), ('by', 'ADP'), ('an', 'DET'), ('explosion', 'NOUN'), ('of', 'ADP'), ('resentment', 'NOUN'), ('against', 'ADP'), ('program', 'NOUN'), ('trading', 'NOUN'), (',', '.'), ('the', 'DET'), ('computer-driven', 'ADJ'), (',', '.'), ('lightning-fast', 'NOUN'), ('trades', 'NOUN'), ('of', 'ADP'), ('huge', 'ADJ'), ('baskets', 'NOUN'), ('of', 'ADP'), ('stocks', 'NOUN'), ('and', 'CONJ'), ('futures', 'NOUN'), ('that', 'ADP'), ('*T*-1', 'X'), ('can', 'VERB'), ('send', 'VERB'), ('stock', 'NOUN'), ('prices', 'NOUN'), ('reeling', 'NOUN'), ('in', 'ADP'), ('minutes', 'NOUN'), ('.', '.'), ('First', 'NOUN'), ('Constitution', 'NOUN'), ('has', 'VERB'), ('signed', 'VERB'), ('a', 'DET'), ('merger', 'NOUN'), ('agreement', 'NOUN'), ('*ICH*-1', 'X'), ('with', 'ADP'), ('WFRR', 'NOUN'), ('L.P.', 'NOUN'), ('and', 'CONJ'), ('GHKM', 'NOUN'), ('Corp.', 'NOUN'), (',', '.'), ('under', 'ADP'), ('which', 'DET'), ('all', 'DET'), ('of', 'ADP'), ('its', 'PRON'), ('common', 'ADJ'), ('shares', 'NOUN'), ('will', 'VERB'), ('be', 'VERB'), ('acquired', 'VERB'), ('*-3', 'X'), ('for', 'ADP'), ('$', '.'), ('25', 'NUM'), ('*U*', 'X'), ('each', 'DET'), (',', '.'), ('or', 'CONJ'), ('$', '.'), ('273.5', 'NOUN'), ('million', 'NUM'), ('*U*', 'X'), ('*T*-2', 'X'), ('.', '.'), ('Rally', 'NOUN'), (\"'s\", 'PRT'), ('lost', 'VERB'), ('1', 'NUM'), ('3\\\\/4', 'NUM'), ('to', 'PRT'), ('21', 'NUM'), ('3\\\\/4', 'NUM'), ('.', '.'), ('October', 'NOUN'), ('sales', 'NOUN'), (',', '.'), ('compared', 'VERB'), ('*', 'X'), ('with', 'ADP'), ('the', 'DET'), ('previous', 'ADJ'), ('month', 'NOUN'), (',', '.'), ('inched', 'VERB'), ('down', 'ADV'), ('0.4', 'NOUN'), ('%', 'NOUN'), ('.', '.'), ('Futures', 'NOUN'), ('Contracts', 'NOUN'), ('--', '.'), ('Obligations', 'NOUN'), ('*', 'X'), ('to', 'PRT'), ('buy', 'VERB'), ('-LRB-', '.'), ('for', 'ADP'), ('those', 'DET'), ('who', 'PRON'), ('*T*-1', 'X'), ('have', 'VERB'), ('purchased', 'VERB'), ('a', 'DET'), ('contract', 'NOUN'), ('-RRB-', '.'), ('or', 'CONJ'), ('deliver', 'VERB'), ('-LRB-', '.'), ('for', 'ADP'), ('those', 'DET'), ('who', 'PRON'), ('*T*-2', 'X'), ('sold', 'VERB'), ('one', 'NUM'), ('-RRB-', '.'), ('a', 'DET'), ('quantity', 'NOUN'), ('of', 'ADP'), ('the', 'DET'), ('underlying', 'ADJ'), ('commodity', 'NOUN'), ('or', 'CONJ'), ('financial', 'ADJ'), ('instrument', 'NOUN'), ('at', 'ADP'), ('the', 'DET'), ('agreed-upon', 'NOUN'), ('price', 'NOUN'), ('by', 'ADP'), ('a', 'DET'), ('certain', 'ADJ'), ('date', 'NOUN'), ('.', '.'), ('A', 'DET'), ('lack', 'NOUN'), ('of', 'ADP'), ('enthusiasm', 'NOUN'), ('with', 'ADP'), ('the', 'DET'), ('latest', 'ADJ'), ('economic', 'ADJ'), ('data', 'NOUN'), ('hampered', 'VERB'), ('the', 'DET'), ('stock', 'NOUN'), ('market', 'NOUN'), (\"'s\", 'PRT'), ('bid', 'NOUN'), ('*', 'X'), ('to', 'PRT'), ('extend', 'VERB'), ('Tuesday', 'NOUN'), (\"'s\", 'PRT'), ('sharp', 'ADJ'), ('gains', 'NOUN'), (',', '.'), ('as', 'ADP'), ('prices', 'NOUN'), ('closed', 'VERB'), ('slightly', 'ADV'), ('higher', 'ADJ'), ('in', 'ADP'), ('sluggish', 'ADJ'), ('trading', 'NOUN'), ('.', '.'), ('This', 'DET'), ('species', 'NOUN'), ('of', 'ADP'), ('congressional', 'ADJ'), ('action', 'NOUN'), ('is', 'VERB'), ('predicated', 'NOUN'), ('*-50', 'X'), ('on', 'ADP'), ('an', 'DET'), ('interpretation', 'NOUN'), ('of', 'ADP'), ('the', 'DET'), ('appropriations', 'NOUN'), ('clause', 'NOUN'), ('that', 'ADP'), ('*T*-1', 'X'), ('is', 'VERB'), ('erroneous', 'NOUN'), ('and', 'CONJ'), ('unconstitutional', 'ADJ'), ('.', '.'), ('The', 'DET'), ('companies', 'NOUN'), ('are', 'VERB'), ('giving', 'VERB'), ('four-day', 'NOUN'), ('vacations', 'NOUN'), ('for', 'ADP'), ('two', 'NUM'), ('to', 'PRT'), ('Buick', 'NOUN'), ('buyers', 'NOUN'), ('who', 'PRON'), ('*T*-51', 'X'), ('charge', 'VERB'), ('all', 'DET'), ('or', 'CONJ'), ('part', 'NOUN'), ('of', 'ADP'), ('their', 'PRON'), ('down', 'ADV'), ('payments', 'NOUN'), ('on', 'ADP'), ('the', 'DET'), ('American', 'ADJ'), ('Express', 'NOUN'), ('green', 'ADJ'), ('card', 'NOUN'), ('.', '.'), ('The', 'DET'), ('bulk', 'NOUN'), ('of', 'ADP'), ('the', 'DET'), ('pretax', 'NOUN'), ('charge', 'NOUN'), ('is', 'VERB'), ('a', 'DET'), ('$', '.'), ('62', 'NUM'), ('million', 'NUM'), ('*U*', 'X'), ('write-off', 'NOUN'), ('of', 'ADP'), ('capitalized', 'VERB'), ('servicing', 'VERB'), ('at', 'ADP'), ('the', 'DET'), ('mobile', 'ADJ'), ('home', 'NOUN'), ('financing', 'NOUN'), ('subsidiary', 'NOUN'), (',', '.'), ('which', 'DET'), ('the', 'DET'), ('company', 'NOUN'), ('said', 'VERB'), ('0', 'X'), ('*T*-1', 'X'), ('had', 'VERB'), ('been', 'VERB'), ('a', 'DET'), ('big', 'ADJ'), ('drain', 'NOUN'), ('on', 'ADP'), ('earnings', 'NOUN'), ('.', '.'), ('Friends', 'NOUN'), ('of', 'ADP'), ('Education', 'NOUN'), ('rates', 'NOUN'), ('South', 'NOUN'), ('Carolina', 'NOUN'), ('one', 'NUM'), ('of', 'ADP'), ('the', 'DET'), ('worst', 'ADJ'), ('seven', 'NUM'), ('states', 'NOUN'), ('in', 'ADP'), ('its', 'PRON'), ('study', 'VERB'), ('on', 'ADP'), ('academic', 'ADJ'), ('cheating', 'NOUN'), ('.', '.'), ('Robert', 'NOUN'), ('P.', 'NOUN'), ('Tassinari', 'NOUN'), (',', '.'), ('63', 'NUM'), (',', '.'), ('was', 'VERB'), ('named', 'VERB'), ('*-29', 'X'), ('senior', 'ADJ'), ('vice', 'NOUN'), ('president', 'NOUN'), ('of', 'ADP'), ('Eastern', 'NOUN'), ('Utilities', 'NOUN'), ('.', '.'), ('Behind', 'NOUN'), ('all', 'DET'), ('the', 'DET'), ('hoopla', 'NOUN'), ('is', 'VERB'), ('*T*-1', 'X'), ('some', 'DET'), ('heavy-duty', 'NOUN'), ('competition', 'NOUN'), ('.', '.'), ('Lewis', 'NOUN'), ('C.', 'NOUN'), ('Veraldi', 'NOUN'), (',', '.'), ('the', 'DET'), ('father', 'NOUN'), ('of', 'ADP'), ('the', 'DET'), ('team', 'NOUN'), ('that', 'ADP'), ('*T*-1', 'X'), ('created', 'VERB'), ('the', 'DET'), ('highly', 'ADV'), ('successful', 'ADJ'), ('Ford', 'NOUN'), ('Taurus', 'NOUN'), ('and', 'CONJ'), ('Mercury', 'NOUN'), ('Sable', 'NOUN'), ('cars', 'NOUN'), (',', '.'), ('retired', 'VERB'), ('early', 'ADV'), ('after', 'ADP'), ('*-2', 'X'), ('experiencing', 'NOUN'), ('recent', 'ADJ'), ('heart', 'NOUN'), ('problems', 'NOUN'), ('.', '.'), ('This', 'DET'), ('year', 'NOUN'), (',', '.'), ('the', 'DET'), ('average', 'ADJ'), ('of', 'ADP'), ('daily', 'ADJ'), ('contracts', 'NOUN'), ('traded', 'VERB'), ('*', 'X'), ('totaled', 'VERB'), ('9,118', 'NOUN'), (',', '.'), ('up', 'ADV'), ('from', 'ADP'), ('4,645', 'NOUN'), ('a', 'DET'), ('year', 'NOUN'), ('earlier', 'ADV'), ('and', 'CONJ'), ('from', 'ADP'), ('917', 'NOUN'), ('in', 'ADP'), ('1984', 'NUM'), ('.', '.'), ('Seed', 'NOUN'), ('for', 'ADP'), ('Jail', 'NOUN'), ('Solution', 'NOUN'), ('Fails', 'NOUN'), ('*-1', 'X'), ('to', 'PRT'), ('Take', 'VERB'), ('Root', 'NOUN')]\n"
     ]
    }
   ],
   "source": [
    "print(\"Time taken in seconds: \", difference)\n",
    "print(tagged_seq)"
   ]
  },
  {
   "cell_type": "code",
   "execution_count": 24,
   "metadata": {},
   "outputs": [
    {
     "data": {
      "text/plain": [
       "0.9423728813559322"
      ]
     },
     "execution_count": 24,
     "metadata": {},
     "output_type": "execute_result"
    }
   ],
   "source": [
    "# list of tagged words\n",
    "test_run_base = [tup for sent in test_set for tup in sent]\n",
    "\n",
    "# accuracy\n",
    "check = [i for i, j in zip(tagged_seq, test_run_base) if i == j] \n",
    "\n",
    "accuracy = len(check)/len(tagged_seq)\n",
    "\n",
    "accuracy"
   ]
  },
  {
   "cell_type": "code",
   "execution_count": 25,
   "metadata": {},
   "outputs": [],
   "source": [
    "sentences = ['Android has been the best-selling OS worldwide on smartphones since 2011 and on tablets since 2013.',\n",
    "             'Android is a mobile operating system developed by Google.',\n",
    "             'Google and Twitter made a deal in 2015 that gave Google access to Twitter\\'s firehose.',\n",
    "             'Twitter is an online news and social networking service on which users post and interact with messages known as tweets.',\n",
    "             'Before entering politics, Donald Trump was a domineering businessman and a television personality.',\n",
    "             'The 2018 FIFA World Cup is the 21st FIFA World Cup, an international football tournament contested once every four years.',\n",
    "             'This is the first World Cup to be held in Eastern Europe and the 11th time that it has been held in Europe.',\n",
    "             'Show me the cheapest round trips from Dallas to Atlanta',\n",
    "             'I would like to see flights from Denver to Philadelphia.',\n",
    "             'Show me the price of the flights leaving Atlanta at about 3 in the afternoon and arriving in San Francisco.',\n",
    "             'NASA invited social media users to experience the launch of ICESAT-2 Satellite.']"
   ]
  },
  {
   "cell_type": "code",
   "execution_count": 26,
   "metadata": {},
   "outputs": [
    {
     "name": "stdout",
     "output_type": "stream",
     "text": [
      "[('Android', 'NOUN'), ('has', 'VERB'), ('been', 'VERB'), ('the', 'DET'), ('best-selling', 'ADJ'), ('OS', 'NOUN'), ('worldwide', 'NOUN'), ('on', 'ADP'), ('smartphones', 'NOUN'), ('since', 'ADP'), ('2011', 'NOUN'), ('and', 'CONJ'), ('on', 'ADP'), ('tablets', 'NOUN'), ('since', 'ADP'), ('2013', 'NOUN'), ('.', '.')]\n",
      "1.7097039222717285\n",
      "[('Android', 'NOUN'), ('is', 'VERB'), ('a', 'DET'), ('mobile', 'ADJ'), ('operating', 'NOUN'), ('system', 'NOUN'), ('developed', 'VERB'), ('by', 'ADP'), ('Google', 'NOUN'), ('.', '.')]\n",
      "1.0527949333190918\n",
      "[('Google', 'NOUN'), ('and', 'CONJ'), ('Twitter', 'NOUN'), ('made', 'VERB'), ('a', 'DET'), ('deal', 'NOUN'), ('in', 'ADP'), ('2015', 'NOUN'), ('that', 'ADP'), ('gave', 'VERB'), ('Google', 'NOUN'), ('access', 'NOUN'), ('to', 'PRT'), ('Twitter', 'NOUN'), (\"'s\", 'PRT'), ('firehose', 'NOUN'), ('.', '.')]\n",
      "1.7371571063995361\n",
      "[('Twitter', 'NOUN'), ('is', 'VERB'), ('an', 'DET'), ('online', 'NOUN'), ('news', 'NOUN'), ('and', 'CONJ'), ('social', 'ADJ'), ('networking', 'NOUN'), ('service', 'NOUN'), ('on', 'ADP'), ('which', 'DET'), ('users', 'NOUN'), ('post', 'NOUN'), ('and', 'CONJ'), ('interact', 'NOUN'), ('with', 'ADP'), ('messages', 'NOUN'), ('known', 'VERB'), ('as', 'ADP'), ('tweets', 'NOUN'), ('.', '.')]\n",
      "2.26088809967041\n",
      "[('Before', 'ADP'), ('entering', 'VERB'), ('politics', 'NOUN'), (',', '.'), ('Donald', 'NOUN'), ('Trump', 'NOUN'), ('was', 'VERB'), ('a', 'DET'), ('domineering', 'NOUN'), ('businessman', 'NOUN'), ('and', 'CONJ'), ('a', 'DET'), ('television', 'NOUN'), ('personality', 'NOUN'), ('.', '.')]\n",
      "1.6371738910675049\n",
      "[('The', 'DET'), ('2018', 'NOUN'), ('FIFA', 'NOUN'), ('World', 'NOUN'), ('Cup', 'NOUN'), ('is', 'VERB'), ('the', 'DET'), ('21st', 'NOUN'), ('FIFA', 'NOUN'), ('World', 'NOUN'), ('Cup', 'NOUN'), (',', '.'), ('an', 'DET'), ('international', 'ADJ'), ('football', 'NOUN'), ('tournament', 'NOUN'), ('contested', 'NOUN'), ('once', 'ADV'), ('every', 'DET'), ('four', 'NUM'), ('years', 'NOUN'), ('.', '.')]\n",
      "2.294322967529297\n",
      "[('This', 'DET'), ('is', 'VERB'), ('the', 'DET'), ('first', 'ADJ'), ('World', 'NOUN'), ('Cup', 'NOUN'), ('to', 'PRT'), ('be', 'VERB'), ('held', 'VERB'), ('in', 'ADP'), ('Eastern', 'NOUN'), ('Europe', 'NOUN'), ('and', 'CONJ'), ('the', 'DET'), ('11th', 'ADJ'), ('time', 'NOUN'), ('that', 'ADP'), ('it', 'PRON'), ('has', 'VERB'), ('been', 'VERB'), ('held', 'VERB'), ('in', 'ADP'), ('Europe', 'NOUN'), ('.', '.')]\n",
      "2.6461431980133057\n",
      "[('Show', 'NOUN'), ('me', 'PRON'), ('the', 'DET'), ('cheapest', 'ADJ'), ('round', 'NOUN'), ('trips', 'NOUN'), ('from', 'ADP'), ('Dallas', 'NOUN'), ('to', 'PRT'), ('Atlanta', 'NOUN')]\n",
      "1.0569908618927002\n",
      "[('I', 'PRON'), ('would', 'VERB'), ('like', 'ADP'), ('to', 'PRT'), ('see', 'VERB'), ('flights', 'NOUN'), ('from', 'ADP'), ('Denver', 'NOUN'), ('to', 'PRT'), ('Philadelphia', 'NOUN'), ('.', '.')]\n",
      "1.208526849746704\n",
      "[('Show', 'NOUN'), ('me', 'PRON'), ('the', 'DET'), ('price', 'NOUN'), ('of', 'ADP'), ('the', 'DET'), ('flights', 'NOUN'), ('leaving', 'VERB'), ('Atlanta', 'NOUN'), ('at', 'ADP'), ('about', 'ADP'), ('3', 'NUM'), ('in', 'ADP'), ('the', 'DET'), ('afternoon', 'NOUN'), ('and', 'CONJ'), ('arriving', 'NOUN'), ('in', 'ADP'), ('San', 'NOUN'), ('Francisco', 'NOUN'), ('.', '.')]\n",
      "2.1436338424682617\n",
      "[('NASA', 'NOUN'), ('invited', 'NOUN'), ('social', 'ADJ'), ('media', 'NOUN'), ('users', 'NOUN'), ('to', 'PRT'), ('experience', 'NOUN'), ('the', 'DET'), ('launch', 'NOUN'), ('of', 'ADP'), ('ICESAT-2', 'NOUN'), ('Satellite', 'NOUN'), ('.', '.')]\n",
      "1.310615062713623\n"
     ]
    }
   ],
   "source": [
    "## Testing\n",
    "#sentence_test = 'Android is a mobile operating system developed by Google.'\n",
    "for sentence in sentences:\n",
    "    words = word_tokenize(sentence)\n",
    "    start = time.time()\n",
    "    tagged_seq = vannilla_viterbi(words)\n",
    "    end = time.time()\n",
    "    difference = end-start\n",
    "    print(tagged_seq)\n",
    "    print(difference)"
   ]
  },
  {
   "cell_type": "code",
   "execution_count": 27,
   "metadata": {},
   "outputs": [
    {
     "name": "stdout",
     "output_type": "stream",
     "text": [
      "[('NASA', 'NOUN'), ('invited', 'NOUN'), ('social', 'ADJ'), ('media', 'NOUN'), ('users', 'NOUN'), ('to', 'PRT'), ('experience', 'NOUN'), ('the', 'DET'), ('launch', 'NOUN'), ('of', 'ADP'), ('ICESAT-2', 'NOUN'), ('Satellite', 'NOUN'), ('.', '.')]\n",
      "1.310615062713623\n"
     ]
    }
   ],
   "source": [
    "print(tagged_seq)\n",
    "print(difference)"
   ]
  },
  {
   "cell_type": "markdown",
   "metadata": {},
   "source": [
    "### Solve the problem of unknown words"
   ]
  },
  {
   "cell_type": "markdown",
   "metadata": {},
   "source": [
    "## We will use the combination of lexical and rule tagger\n",
    "\n",
    "- Numbers are not identified properly\n",
    "- Unknown if not found in the corpus, will make it NOUN be default"
   ]
  },
  {
   "cell_type": "code",
   "execution_count": 48,
   "metadata": {},
   "outputs": [
    {
     "data": {
      "text/plain": [
       "0.9549351944167498"
      ]
     },
     "execution_count": 48,
     "metadata": {},
     "output_type": "execute_result"
    }
   ],
   "source": [
    "patterns = [(r'.*ing$', 'VERB'),(r'.*ed$', 'VERB'),\n",
    "    (r'^-?[0-9]+(.[0-9]+)?$', 'NUM'),\n",
    "    (r'.*', 'NOUN')                  \n",
    "]\n",
    "rule_based_tagger = nltk.RegexpTagger(patterns)\n",
    "\n",
    "lexicon_tagger = nltk.UnigramTagger(train_set, backoff=rule_based_tagger)\n",
    "\n",
    "lexicon_tagger.evaluate(test_set)"
   ]
  },
  {
   "cell_type": "markdown",
   "metadata": {},
   "source": [
    "### Modified version of viterbi algorithm which makes use of combined tagger to determine the probanility for a word with respect to given tag. If word_given_tag method returns the word not present in the corpus, we make use of combined tagger to determine the probability."
   ]
  },
  {
   "cell_type": "code",
   "execution_count": 41,
   "metadata": {},
   "outputs": [],
   "source": [
    "def vannilla_viterbi_modified(words , train_bag = train_tagged_words):\n",
    "    state = []\n",
    "    T = list(set([pair[1] for pair in train_bag]))\n",
    "    for key,word in enumerate(words):\n",
    "        p = []\n",
    "        for tag in T:\n",
    "            if key ==0:\n",
    "                transition_p = tags_df.loc['.',tag]\n",
    "            else:\n",
    "                transition_p = tags_df.loc[state[-1],tag]\n",
    "            result = word_given_tag(words[key],tag)\n",
    "            derivedProabability = result[0]\n",
    "            ##Tweaking viterbi algorithm to derive the probability from lexiconRule tagger\n",
    "            if result[0]==0:\n",
    "                # It means, given word not present in the corpus\n",
    "                derivedProabability = rule_based_tagger.evaluate([[(word,tag)]]) \n",
    "            emission_p = derivedProabability/result[1]\n",
    "            state_probability = emission_p * transition_p    \n",
    "            p.append(state_probability)\n",
    "            \n",
    "        pmax = max(p)\n",
    "        # getting state for which probability is maximum\n",
    "        state_max = T[p.index(pmax)] \n",
    "        state.append(state_max)\n",
    "    return list(zip(words, state))"
   ]
  },
  {
   "cell_type": "code",
   "execution_count": 42,
   "metadata": {},
   "outputs": [
    {
     "name": "stdout",
     "output_type": "stream",
     "text": [
      "Time taken in seconds:  764.2967958450317\n"
     ]
    }
   ],
   "source": [
    "# tagging the test sentences\n",
    "start1 = time.time()\n",
    "tagged_seq1 = vannilla_viterbi_modified(test_tagged_words)\n",
    "end1 = time.time()\n",
    "difference1 = end1-start1\n",
    "\n",
    "print(\"Time taken in seconds: \", difference1)\n"
   ]
  },
  {
   "cell_type": "markdown",
   "metadata": {},
   "source": [
    "#### Evaluating tagging accuracy"
   ]
  },
  {
   "cell_type": "code",
   "execution_count": 45,
   "metadata": {},
   "outputs": [
    {
     "data": {
      "text/plain": [
       "0.9523429710867398"
      ]
     },
     "execution_count": 45,
     "metadata": {},
     "output_type": "execute_result"
    }
   ],
   "source": [
    "check1 = [i for i, j in zip(tagged_seq1, test_run_base) if i == j] \n",
    "\n",
    "accuracy1 = len(check1)/len(tagged_seq1)\n",
    "\n",
    "accuracy1"
   ]
  },
  {
   "cell_type": "markdown",
   "metadata": {},
   "source": [
    "### Compare the tagging accuracies of the modifications with the vanilla Viterbi algorithm"
   ]
  },
  {
   "cell_type": "code",
   "execution_count": 46,
   "metadata": {},
   "outputs": [
    {
     "name": "stdout",
     "output_type": "stream",
     "text": [
      "Accuracy with the plain viterbi algorithm:  0.9423728813559322\n",
      "Accuracy with the plain enhanced viterbi algorithm:  0.9523429710867398\n"
     ]
    }
   ],
   "source": [
    "print(\"Accuracy with the plain viterbi algorithm: \" , str(accuracy))\n",
    "\n",
    "print(\"Accuracy with the plain enhanced viterbi algorithm: \" , str(accuracy1))"
   ]
  },
  {
   "cell_type": "code",
   "execution_count": 47,
   "metadata": {},
   "outputs": [
    {
     "name": "stdout",
     "output_type": "stream",
     "text": [
      "Modified version of viterbi algorithm is giving more accuracy than plain vanilla version\n"
     ]
    }
   ],
   "source": [
    "if (accuracy1>accuracy):\n",
    "    print(\"Modified version of viterbi algorithm is giving more accuracy than plain vanilla version\")"
   ]
  },
  {
   "cell_type": "markdown",
   "metadata": {},
   "source": [
    "### List down cases which were incorrectly tagged by original POS tagger and got corrected by your modifications"
   ]
  },
  {
   "cell_type": "code",
   "execution_count": 34,
   "metadata": {},
   "outputs": [],
   "source": [
    "\n",
    "def executeViterbi(sentence):\n",
    "    words = word_tokenize(sentence)\n",
    "    start = time.time()\n",
    "    tagged_seq = vannilla_viterbi_modified(words)\n",
    "    end = time.time()\n",
    "    difference = end-start\n",
    "    print(tagged_seq)\n",
    "    print(difference)"
   ]
  },
  {
   "cell_type": "code",
   "execution_count": 35,
   "metadata": {},
   "outputs": [
    {
     "name": "stdout",
     "output_type": "stream",
     "text": [
      "[('Android', 'NOUN'), ('has', 'VERB'), ('been', 'VERB'), ('the', 'DET'), ('best-selling', 'ADJ'), ('OS', 'NOUN'), ('worldwide', 'NOUN'), ('on', 'ADP'), ('smartphones', 'NOUN'), ('since', 'ADP'), ('2011', 'NUM'), ('and', 'CONJ'), ('on', 'ADP'), ('tablets', 'NOUN'), ('since', 'ADP'), ('2013', 'NUM'), ('.', '.')]\n",
      "2.2068560123443604\n"
     ]
    }
   ],
   "source": [
    "sentence1 ='Android has been the best-selling OS worldwide on smartphones since 2011 and on tablets since 2013.'\n",
    "executeViterbi(sentence1)"
   ]
  },
  {
   "cell_type": "code",
   "execution_count": 36,
   "metadata": {},
   "outputs": [
    {
     "name": "stdout",
     "output_type": "stream",
     "text": [
      "[('The', 'DET'), ('2018', 'NUM'), ('FIFA', 'NOUN'), ('World', 'NOUN'), ('Cup', 'NOUN'), ('is', 'VERB'), ('the', 'DET'), ('21st', 'NOUN'), ('FIFA', 'NOUN'), ('World', 'NOUN'), ('Cup', 'NOUN'), (',', '.'), ('an', 'DET'), ('international', 'ADJ'), ('football', 'NOUN'), ('tournament', 'NOUN'), ('contested', 'VERB'), ('once', 'ADV'), ('every', 'DET'), ('four', 'NUM'), ('years', 'NOUN'), ('.', '.')]\n",
      "3.0790328979492188\n"
     ]
    }
   ],
   "source": [
    "sentence2 = 'The 2018 FIFA World Cup is the 21st FIFA World Cup, an international football tournament contested once every four years.'\n",
    "executeViterbi(sentence2)"
   ]
  },
  {
   "cell_type": "code",
   "execution_count": 37,
   "metadata": {},
   "outputs": [
    {
     "name": "stdout",
     "output_type": "stream",
     "text": [
      "[('Google', 'NOUN'), ('and', 'CONJ'), ('Twitter', 'NOUN'), ('made', 'VERB'), ('a', 'DET'), ('deal', 'NOUN'), ('in', 'ADP'), ('2015', 'NUM'), ('that', 'ADP'), ('gave', 'NOUN'), ('Google', 'NOUN'), ('access', 'NOUN'), ('to', 'PRT'), ('Twitter', 'NOUN'), (\"'s\", 'PRT'), ('firehose', 'NOUN'), ('.', '.')]\n",
      "2.5166239738464355\n"
     ]
    }
   ],
   "source": [
    "sentence3 = 'Google and Twitter made a deal in 2015 that gave Google access to Twitter\\'s firehose.'\n",
    "executeViterbi(sentence3)"
   ]
  }
 ],
 "metadata": {
  "kernelspec": {
   "display_name": "Python 3",
   "language": "python",
   "name": "python3"
  },
  "language_info": {
   "codemirror_mode": {
    "name": "ipython",
    "version": 3
   },
   "file_extension": ".py",
   "mimetype": "text/x-python",
   "name": "python",
   "nbconvert_exporter": "python",
   "pygments_lexer": "ipython3",
   "version": "3.7.1"
  }
 },
 "nbformat": 4,
 "nbformat_minor": 2
}
